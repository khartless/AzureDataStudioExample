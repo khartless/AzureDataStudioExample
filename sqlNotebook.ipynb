{
    "metadata": {
        "kernelspec": {
            "name": "SQL",
            "display_name": "SQL",
            "language": "sql"
        },
        "language_info": {
            "name": "sql",
            "version": ""
        }
    },
    "nbformat_minor": 2,
    "nbformat": 4,
    "cells": [
        {
            "cell_type": "markdown",
            "source": [
                "# MTech Data Warehouse Scripts\n",
                "\n",
                "This is the list of scripts run on the sqlmtech, Aviagen_Chicken_V7Live database and imported into the MTech Data Warehouse dashboard\n",
                ""
            ],
            "metadata": {
                "azdata_cell_guid": "906369fc-7019-412a-bf6d-6fb286fd0ec4"
            }
        },
        {
            "cell_type": "markdown",
            "source": [
                "## Entity\r\n",
                "\r\n",
                "This table creates a list of complex entity numbers and earliest transaction as StartDate and most recent transaction as EndDate. This table is used to determine the range of dates to create to convert the transactional data to daily data. "
            ],
            "metadata": {
                "azdata_cell_guid": "edbc15df-4818-40c6-b9ea-86dfa04b3954"
            }
        },
        {
            "cell_type": "code",
            "source": [
                "DECLARE @startdate datetime \r\n",
                "SET @startdate = '1/1/16'\r\n",
                "\r\n",
                ";with inventory_dates as \r\n",
                "(\r\n",
                "    SELECT rtrim(b.FarmNo) + '-' + rtrim(b.EntityNo) AS ComplexEntityNo\r\n",
                "    ,min(xDate) AS StartDate\r\n",
                "    ,max(xDate) AS EndDate\r\n",
                "        -- ,CASE WHEN min(a.xDate) < min(d.xDate) THEN min(a.xDate) ELSE min(d.xDate) END As StartDate\r\n",
                "        -- ,CASE WHEN Max(a.xDate) > Max(d.xDate) THEN Max(a.xDate) ELSE Max(d.xDate) END AS EndDate \r\n",
                "    FROM mtech.BimEntityInventory a \r\n",
                "    INNER JOIN mtech.mvProteinEntities b \r\n",
                "        ON a.ProteinEntitiesIRN = b.IRN\r\n",
                "    INNER JOIN mtech.BimEntities c \r\n",
                "        ON a.ProteinEntitiesIRN = c.ProteinEntitiesIRN\r\n",
                "    -- RIGHT JOIN mtech.BimFieldTrans d \r\n",
                "    --     ON a.ProteinEntitiesIRN = d.ProteinEntitiesIRN\r\n",
                "    WHERE a.EntityHistoryFlag = 0\r\n",
                "    AND AvgHatchDate >= @startdate\r\n",
                "    AND a.xDate > '11/30/1899'\r\n",
                "    Group by FarmNo, EntityNo\r\n",
                ")\r\n",
                "\r\n",
                ",trans_dates as \r\n",
                "(\r\n",
                "    SELECT rtrim(b.FarmNo) + '-' + rtrim(b.EntityNo) AS ComplexEntityNo\r\n",
                "    ,min(xDate) AS StartDate\r\n",
                "    ,max(xDate) AS EndDate\r\n",
                "        -- ,CASE WHEN min(a.xDate) < min(d.xDate) THEN min(a.xDate) ELSE min(d.xDate) END As StartDate\r\n",
                "        -- ,CASE WHEN Max(a.xDate) > Max(d.xDate) THEN Max(a.xDate) ELSE Max(d.xDate) END AS EndDate \r\n",
                "    FROM mtech.BimFieldTrans a \r\n",
                "    INNER JOIN mtech.mvProteinEntities b \r\n",
                "        ON a.ProteinEntitiesIRN = b.IRN\r\n",
                "    INNER JOIN mtech.BimEntities c \r\n",
                "        ON a.ProteinEntitiesIRN = c.ProteinEntitiesIRN\r\n",
                "    WHERE a.EntityHistoryFlag = 0\r\n",
                "    AND AvgHatchDate >= @startdate\r\n",
                "    AND a.xDate > '11/30/1899'\r\n",
                "    Group by FarmNo, EntityNo\r\n",
                ")\r\n",
                "\r\n",
                "select top 10 \r\n",
                "a.ComplexEntityNo\r\n",
                ",CASE WHEN a.StartDate < coalesce(b.StartDate, '11/30/3000') then a.StartDate else b.StartDate END AS StartDate\r\n",
                ",CASE WHEN a.EndDate > coalesce(b.EndDate, '11/30/1899') THEN a.EndDate else b.EndDate END AS EndDate\r\n",
                "FROM inventory_dates a \r\n",
                "LEFT JOIN trans_dates b \r\n",
                "ON a.ComplexEntityNo = b.ComplexEntityNo"
            ],
            "metadata": {
                "azdata_cell_guid": "b4807f92-f7fc-4b9e-9078-10fa18681cd7"
            },
            "outputs": [
                {
                    "output_type": "display_data",
                    "data": {
                        "text/html": "(10 rows affected)"
                    },
                    "metadata": {}
                },
                {
                    "output_type": "display_data",
                    "data": {
                        "text/html": "Total execution time: 00:00:03.807"
                    },
                    "metadata": {}
                },
                {
                    "output_type": "execute_result",
                    "metadata": {},
                    "execution_count": 1,
                    "data": {
                        "application/vnd.dataresource+json": {
                            "schema": {
                                "fields": [
                                    {
                                        "name": "ComplexEntityNo"
                                    },
                                    {
                                        "name": "StartDate"
                                    },
                                    {
                                        "name": "EndDate"
                                    }
                                ]
                            },
                            "data": [
                                {
                                    "0": "001.N1-02116.344",
                                    "1": "2016-01-05 00:00:00.000",
                                    "2": "2016-06-13 00:00:00.000"
                                },
                                {
                                    "0": "001.N1-02116.AP95",
                                    "1": "2016-01-05 00:00:00.000",
                                    "2": "2016-06-13 00:00:00.000"
                                },
                                {
                                    "0": "001.N1-12117.AP95",
                                    "1": "2017-03-23 00:00:00.000",
                                    "2": "2017-08-30 00:00:00.000"
                                },
                                {
                                    "0": "001.N1-16118.344",
                                    "1": "2018-04-17 00:00:00.000",
                                    "2": "2018-09-24 00:00:00.000"
                                },
                                {
                                    "0": "001.N1-16118.AP95",
                                    "1": "2018-04-17 00:00:00.000",
                                    "2": "2018-09-24 00:00:00.000"
                                },
                                {
                                    "0": "001.N1-23119.344",
                                    "1": "2019-06-07 00:00:00.000",
                                    "2": "2019-11-14 00:00:00.000"
                                },
                                {
                                    "0": "001.N1-23119.AP95",
                                    "1": "2019-06-07 00:00:00.000",
                                    "2": "2019-11-14 00:00:00.000"
                                },
                                {
                                    "0": "001.N1-28220.AP95",
                                    "1": "2020-07-11 00:00:00.000",
                                    "2": "2020-10-12 00:00:00.000"
                                },
                                {
                                    "0": "001.N1-32116.AP95",
                                    "1": "2016-08-06 00:00:00.000",
                                    "2": "2017-01-13 00:00:00.000"
                                },
                                {
                                    "0": "001.N1-41117.344",
                                    "1": "2017-10-14 00:00:00.000",
                                    "2": "2018-03-23 00:00:00.000"
                                }
                            ]
                        },
                        "text/html": [
                            "<table>",
                            "<tr><th>ComplexEntityNo</th><th>StartDate</th><th>EndDate</th></tr>",
                            "<tr><td>001.N1-02116.344</td><td>2016-01-05 00:00:00.000</td><td>2016-06-13 00:00:00.000</td></tr>",
                            "<tr><td>001.N1-02116.AP95</td><td>2016-01-05 00:00:00.000</td><td>2016-06-13 00:00:00.000</td></tr>",
                            "<tr><td>001.N1-12117.AP95</td><td>2017-03-23 00:00:00.000</td><td>2017-08-30 00:00:00.000</td></tr>",
                            "<tr><td>001.N1-16118.344</td><td>2018-04-17 00:00:00.000</td><td>2018-09-24 00:00:00.000</td></tr>",
                            "<tr><td>001.N1-16118.AP95</td><td>2018-04-17 00:00:00.000</td><td>2018-09-24 00:00:00.000</td></tr>",
                            "<tr><td>001.N1-23119.344</td><td>2019-06-07 00:00:00.000</td><td>2019-11-14 00:00:00.000</td></tr>",
                            "<tr><td>001.N1-23119.AP95</td><td>2019-06-07 00:00:00.000</td><td>2019-11-14 00:00:00.000</td></tr>",
                            "<tr><td>001.N1-28220.AP95</td><td>2020-07-11 00:00:00.000</td><td>2020-10-12 00:00:00.000</td></tr>",
                            "<tr><td>001.N1-32116.AP95</td><td>2016-08-06 00:00:00.000</td><td>2017-01-13 00:00:00.000</td></tr>",
                            "<tr><td>001.N1-41117.344</td><td>2017-10-14 00:00:00.000</td><td>2018-03-23 00:00:00.000</td></tr>",
                            "</table>"
                        ]
                    }
                }
            ],
            "execution_count": 1
        },
        {
            "cell_type": "markdown",
            "source": [
                "## Entity Detail\r\n",
                "\r\n",
                "This table contains a list of all of the entities in the database and the flock level detail such as average hatch date, date capped, birds placed, moved and capped"
            ],
            "metadata": {
                "azdata_cell_guid": "0c4d1dc7-9ca0-49d3-a8b8-bc9ef4f88353"
            }
        },
        {
            "cell_type": "code",
            "source": [
                "with flocks AS \r\n",
                "(\r\n",
                "    SELECT\r\n",
                "        rtrim(pe.FarmNo) + '-' + rtrim(pe.EntityNo) AS ComplexEntityNo\r\n",
                "        ,rtrim(DivisionNo) AS DivisionNo \r\n",
                "        ,rtrim(DivisionName) AS DivisionName\r\n",
                "        ,rtrim(pe.FarmNo) AS FarmNo \r\n",
                "        ,rtrim(pe.FarmName) AS FarmName\r\n",
                "        ,rtrim(pe.EntityNo) AS EntityNo\r\n",
                "        ,pe.BreedNo\r\n",
                "        ,rtrim(pe.GrowoutNo) AS GrowoutNo\r\n",
                "        ,rtrim(pe.GrowoutName) AS GrowoutName\r\n",
                "        ,rtrim(pts.TechSupervisorName) AS TechSupervisorName\r\n",
                "        ,COALESCE(\r\n",
                "            CASE WHEN GenerationCode = 4 THEN 'GP' ELSE NULL END,\r\n",
                "            CASE WHEN GenerationCode = 3 THEN 'GGP' ELSE NULL END, \r\n",
                "            CASE WHEN GenerationCode = 2 THEN 'GGGP' ELSE NULL END,\r\n",
                "            CASE WHEN GenerationCode = 1 THEN 'Pedigree' ELSE NULL END,\r\n",
                "            'OTHER') AS GenerationCode \r\n",
                "        ,AvgDateMovedIn \r\n",
                "        ,AvgDateMovedOut\r\n",
                "        ,FirstDateMovedIn\r\n",
                "        ,AvgDateSold\r\n",
                "        ,AvgDatePlaced\r\n",
                "        ,AvgHatchDate\r\n",
                "        ,LastDateSold\r\n",
                "        ,LastDateMovedOut\r\n",
                "        ,GrowDateMoved\r\n",
                "        ,CASE WHEN ([STATUS] = 1 AND AvgDateSold = '11/30/1899') THEN 'Active' ELSE 'Depleted' END AS [STATUS]\r\n",
                "        ,be.ExternalChickSource\r\n",
                "    FROM mtech.mvProteinEntities pe \r\n",
                "    LEFT JOIN mtech.ProteinTechSupervisors pts ON pe.ProteinTechSupervisorsIRN = pts.IRN\r\n",
                "    LEFT JOIN mtech.BimEntities be ON be.ProteinEntitiesIRN = pe.IRN\r\n",
                "    LEFT JOIN mtech.BimCapitalizationTrans ct ON ct.ProteinEntitiesIRN = pe.IRN\r\n",
                "        AND ct.PostStatus = 2 \r\n",
                "        AND ct.VoidFlag = 0\r\n",
                "    LEFT JOIN mtech.mvProteinCostCenters pcc ON pcc.IRN = pe.ProteinCostCentersIRN\r\n",
                "    LEFT JOIN mtech.ProteinDivisions pd ON pd.IRN = pcc.ProteinDivisionsIRN\r\n",
                "    WHERE AvgHatchDate>='1/1/16' \r\n",
                "    and GRN = 'F' \r\n",
                ")\r\n",
                "\r\n",
                ",placements AS \r\n",
                "(\r\n",
                "SELECT rtrim(b.FarmNo) + '-' + rtrim(b.EntityNo) AS ComplexEntityNo\r\n",
                ",SUM(CASE WHEN (SEX = 1 AND SourceCode = 'CHICK' AND EntityHistoryFlag = 0) THEN Quantity ELSE NULL END) AS FemalePlacement\r\n",
                ",SUM(CASE WHEN (SEX = 2 AND SourceCode = 'Chick' AND EntityHistoryFlag = 0) THEN Quantity ELSE NULL END) AS MalePlacement\r\n",
                ",SUM(CASE WHEN (SEX = 1 AND SourceCode = 'Pmts Transfers' AND TransCode=1) THEN Quantity ELSE NULL END) AS FemaleMovement\r\n",
                ",SUM(CASE WHEN (SEX = 2 AND SourceCode = 'Pmts Transfers' AND TransCode=1) THEN Quantity ELSE NULL END) AS MaleMovement\r\n",
                "FROM mtech.BimEntityInventory a \r\n",
                "INNER JOIN mtech.mvProteinEntities b \r\n",
                "    ON a.ProteinEntitiesIRN = b.IRN\r\n",
                "GROUP BY FarmNo, EntityNo\r\n",
                ")\r\n",
                "\r\n",
                ",capped AS \r\n",
                "(\r\n",
                "    select rtrim(FarmNo) + '-' + rtrim(EntityNo) AS ComplexEntityNo\r\n",
                "    ,MAX(CASE WHEN GRN = 'F' THEN DateCap ELSE NULL END) AS DateCap\r\n",
                "    ,SUM(CASE WHEN GRN != 'F' THEN HensCap ELSE NULL END) AS HensCap\r\n",
                "    ,SUM(CASE WHEN GRN != 'M' THEN MalesCap ELSE NULL END) AS MalesCap\r\n",
                "    from mtech.mvBimEntities \r\n",
                "    where DateCap is not null\r\n",
                "    Group by FarmNo, EntityNo\r\n",
                ")\r\n",
                "\r\n",
                "\r\n",
                "Select top 10  \r\n",
                "f.*, convert(int,FemalePlacement) FemalePlacement, convert(int, MalePlacement) MalePlacement, convert(int, FemaleMovement) FemaleMovement, convert(int, MaleMovement) MaleMovement\r\n",
                ",c.DateCap, c.MalesCap, c.HensCap\r\n",
                ",((CASE WHEN (DateCap > '18991130' AND DateCap <= '12/31/9999') OR ExternalChickSource = 1 THEN 3 \r\n",
                "        WHEN (GrowDateMoved > '18991130' AND GrowDateMoved < '12/31/9999') THEN 2 ELSE 1 END)) AS EntityStage\r\n",
                "FROM flocks f \r\n",
                "LEFT JOIN placements p \r\n",
                "    ON f.ComplexEntityNo = p.ComplexEntityNo\r\n",
                "LEFT JOIN capped c \r\n",
                "    ON f.ComplexEntityNo = c.ComplexEntityNo"
            ],
            "metadata": {
                "azdata_cell_guid": "c70d9edf-41fe-4f0a-b9ee-4d08217e3d8b"
            },
            "outputs": [
                {
                    "output_type": "display_data",
                    "data": {
                        "text/html": "Warning: Null value is eliminated by an aggregate or other SET operation."
                    },
                    "metadata": {}
                },
                {
                    "output_type": "display_data",
                    "data": {
                        "text/html": "(10 rows affected)"
                    },
                    "metadata": {}
                },
                {
                    "output_type": "display_data",
                    "data": {
                        "text/html": "Total execution time: 00:00:07.069"
                    },
                    "metadata": {}
                },
                {
                    "output_type": "execute_result",
                    "metadata": {},
                    "execution_count": 2,
                    "data": {
                        "application/vnd.dataresource+json": {
                            "schema": {
                                "fields": [
                                    {
                                        "name": "ComplexEntityNo"
                                    },
                                    {
                                        "name": "DivisionNo"
                                    },
                                    {
                                        "name": "DivisionName"
                                    },
                                    {
                                        "name": "FarmNo"
                                    },
                                    {
                                        "name": "FarmName"
                                    },
                                    {
                                        "name": "EntityNo"
                                    },
                                    {
                                        "name": "BreedNo"
                                    },
                                    {
                                        "name": "GrowoutNo"
                                    },
                                    {
                                        "name": "GrowoutName"
                                    },
                                    {
                                        "name": "TechSupervisorName"
                                    },
                                    {
                                        "name": "GenerationCode"
                                    },
                                    {
                                        "name": "AvgDateMovedIn"
                                    },
                                    {
                                        "name": "AvgDateMovedOut"
                                    },
                                    {
                                        "name": "FirstDateMovedIn"
                                    },
                                    {
                                        "name": "AvgDateSold"
                                    },
                                    {
                                        "name": "AvgDatePlaced"
                                    },
                                    {
                                        "name": "AvgHatchDate"
                                    },
                                    {
                                        "name": "LastDateSold"
                                    },
                                    {
                                        "name": "LastDateMovedOut"
                                    },
                                    {
                                        "name": "GrowDateMoved"
                                    },
                                    {
                                        "name": "STATUS"
                                    },
                                    {
                                        "name": "ExternalChickSource"
                                    },
                                    {
                                        "name": "FemalePlacement"
                                    },
                                    {
                                        "name": "MalePlacement"
                                    },
                                    {
                                        "name": "FemaleMovement"
                                    },
                                    {
                                        "name": "MaleMovement"
                                    },
                                    {
                                        "name": "DateCap"
                                    },
                                    {
                                        "name": "MalesCap"
                                    },
                                    {
                                        "name": "HensCap"
                                    },
                                    {
                                        "name": "EntityStage"
                                    }
                                ]
                            },
                            "data": [
                                {
                                    "0": "001.N1-32116.AP95",
                                    "1": "BR",
                                    "2": "Brazil",
                                    "3": "001.N1",
                                    "4": "Granja 1.2",
                                    "5": "32116.AP95",
                                    "6": "AP95",
                                    "7": "BR",
                                    "8": "BRAZIL",
                                    "9": "Gilberto Rodrigues Costa",
                                    "10": "GP",
                                    "11": "2016-10-20 00:00:00.000",
                                    "12": "2016-11-10 00:00:00.000",
                                    "13": "2016-08-15 00:00:00.000",
                                    "14": "1899-11-30 00:00:00.000",
                                    "15": "2016-08-06 00:00:00.000",
                                    "16": "2016-08-05 00:00:00.000",
                                    "17": "1899-11-30 00:00:00.000",
                                    "18": "2017-01-13 00:00:00.000",
                                    "19": "1899-11-30 00:00:00.000",
                                    "20": "Depleted",
                                    "21": "0",
                                    "22": "8240",
                                    "23": "2069",
                                    "24": "22564",
                                    "25": "2461",
                                    "26": "NULL",
                                    "27": "NULL",
                                    "28": "NULL",
                                    "29": "1"
                                },
                                {
                                    "0": "001.N2-16118.AP95",
                                    "1": "BR",
                                    "2": "Brazil",
                                    "3": "001.N2",
                                    "4": "Granja 1.2",
                                    "5": "16118.AP95",
                                    "6": "AP95",
                                    "7": "BR",
                                    "8": "BRAZIL",
                                    "9": "Gilberto Rodrigues Costa",
                                    "10": "GP",
                                    "11": "2018-09-24 00:00:00.000",
                                    "12": "1899-11-30 00:00:00.000",
                                    "13": "2018-09-24 00:00:00.000",
                                    "14": "2019-07-16 00:00:00.000",
                                    "15": "2018-04-17 00:00:00.000",
                                    "16": "2018-04-16 00:00:00.000",
                                    "17": "2019-07-16 00:00:00.000",
                                    "18": "1899-11-30 00:00:00.000",
                                    "19": "1899-11-30 00:00:00.000",
                                    "20": "Depleted",
                                    "21": "0",
                                    "22": "NULL",
                                    "23": "NULL",
                                    "24": "5836",
                                    "25": "625",
                                    "26": "2018-09-25 00:00:00.000",
                                    "27": "625",
                                    "28": "5836",
                                    "29": "3"
                                },
                                {
                                    "0": "001.N5-22120.AP95",
                                    "1": "BR",
                                    "2": "Brazil",
                                    "3": "001.N5",
                                    "4": "Granja 1.2",
                                    "5": "22120.AP95",
                                    "6": "AP95",
                                    "7": "BR",
                                    "8": "BRAZIL",
                                    "9": "Aldair Alves",
                                    "10": "GP",
                                    "11": "2020-07-09 00:00:00.000",
                                    "12": "2020-07-09 00:00:00.000",
                                    "13": "2020-06-06 00:00:00.000",
                                    "14": "1899-11-30 00:00:00.000",
                                    "15": "2020-05-29 00:00:00.000",
                                    "16": "2020-05-28 00:00:00.000",
                                    "17": "1899-11-30 00:00:00.000",
                                    "18": "2020-09-22 00:00:00.000",
                                    "19": "1899-11-30 00:00:00.000",
                                    "20": "Active",
                                    "21": "0",
                                    "22": "9519",
                                    "23": "3804",
                                    "24": "20820",
                                    "25": "4083",
                                    "26": "NULL",
                                    "27": "NULL",
                                    "28": "NULL",
                                    "29": "1"
                                },
                                {
                                    "0": "001.N6-14117.344",
                                    "1": "BR",
                                    "2": "Brazil",
                                    "3": "001.N6",
                                    "4": "Granja 1.2",
                                    "5": "14117.344",
                                    "6": "344",
                                    "7": "BR",
                                    "8": "BRAZIL",
                                    "9": "Gilberto Rodrigues Costa",
                                    "10": "GP",
                                    "11": "2017-06-06 00:00:00.000",
                                    "12": "2017-07-04 00:00:00.000",
                                    "13": "2017-04-17 00:00:00.000",
                                    "14": "1899-11-30 00:00:00.000",
                                    "15": "2017-04-04 00:00:00.000",
                                    "16": "2017-04-03 00:00:00.000",
                                    "17": "1899-11-30 00:00:00.000",
                                    "18": "2017-09-11 00:00:00.000",
                                    "19": "1899-11-30 00:00:00.000",
                                    "20": "Depleted",
                                    "21": "0",
                                    "22": "2446",
                                    "23": "2086",
                                    "24": "4140",
                                    "25": "1869",
                                    "26": "NULL",
                                    "27": "NULL",
                                    "28": "NULL",
                                    "29": "1"
                                },
                                {
                                    "0": "001.N6-31119.AP95",
                                    "1": "BR",
                                    "2": "Brazil",
                                    "3": "001.N6",
                                    "4": "Granja 1.2",
                                    "5": "31119.AP95",
                                    "6": "AP95",
                                    "7": "BR",
                                    "8": "BRAZIL",
                                    "9": "Gilberto Rodrigues Costa",
                                    "10": "GP",
                                    "11": "2019-10-04 00:00:00.000",
                                    "12": "2019-11-04 00:00:00.000",
                                    "13": "2019-08-15 00:00:00.000",
                                    "14": "1899-11-30 00:00:00.000",
                                    "15": "2019-08-02 00:00:00.000",
                                    "16": "2019-08-01 00:00:00.000",
                                    "17": "1899-11-30 00:00:00.000",
                                    "18": "2020-01-09 00:00:00.000",
                                    "19": "1899-11-30 00:00:00.000",
                                    "20": "Depleted",
                                    "21": "0",
                                    "22": "8563",
                                    "23": "2374",
                                    "24": "16360",
                                    "25": "2672",
                                    "26": "NULL",
                                    "27": "NULL",
                                    "28": "NULL",
                                    "29": "1"
                                },
                                {
                                    "0": "001.N6-37116.AP95",
                                    "1": "BR",
                                    "2": "Brazil",
                                    "3": "001.N6",
                                    "4": "Granja 1.2",
                                    "5": "37116.AP95",
                                    "6": "AP95",
                                    "7": "BR",
                                    "8": "BRAZIL",
                                    "9": "Gilberto Rodrigues Costa",
                                    "10": "GP",
                                    "11": "2016-10-17 00:00:00.000",
                                    "12": "2016-11-18 00:00:00.000",
                                    "13": "2016-09-16 00:00:00.000",
                                    "14": "1899-11-30 00:00:00.000",
                                    "15": "2016-09-09 00:00:00.000",
                                    "16": "2016-09-08 00:00:00.000",
                                    "17": "1899-11-30 00:00:00.000",
                                    "18": "2017-02-16 00:00:00.000",
                                    "19": "1899-11-30 00:00:00.000",
                                    "20": "Depleted",
                                    "21": "0",
                                    "22": "9219",
                                    "23": "2397",
                                    "24": "25560",
                                    "25": "1120",
                                    "26": "NULL",
                                    "27": "NULL",
                                    "28": "NULL",
                                    "29": "1"
                                },
                                {
                                    "0": "001.N7-14117.AP95",
                                    "1": "BR",
                                    "2": "Brazil",
                                    "3": "001.N7",
                                    "4": "Granja 1.2",
                                    "5": "14117.AP95",
                                    "6": "AP95",
                                    "7": "BR",
                                    "8": "BRAZIL",
                                    "9": "Gilberto Rodrigues Costa",
                                    "10": "GP",
                                    "11": "2017-09-11 00:00:00.000",
                                    "12": "1899-11-30 00:00:00.000",
                                    "13": "2017-09-11 00:00:00.000",
                                    "14": "2018-06-27 00:00:00.000",
                                    "15": "2017-04-04 00:00:00.000",
                                    "16": "2017-04-03 00:00:00.000",
                                    "17": "2018-06-27 00:00:00.000",
                                    "18": "1899-11-30 00:00:00.000",
                                    "19": "1899-11-30 00:00:00.000",
                                    "20": "Depleted",
                                    "21": "0",
                                    "22": "NULL",
                                    "23": "NULL",
                                    "24": "7067",
                                    "25": "715",
                                    "26": "2017-09-12 00:00:00.000",
                                    "27": "715",
                                    "28": "7067",
                                    "29": "3"
                                },
                                {
                                    "0": "001.N7-20118.AP95",
                                    "1": "BR",
                                    "2": "Brazil",
                                    "3": "001.N7",
                                    "4": "Granja 1.2",
                                    "5": "20118.AP95",
                                    "6": "AP95",
                                    "7": "BR",
                                    "8": "BRAZIL",
                                    "9": "Gilberto Rodrigues Costa",
                                    "10": "GP",
                                    "11": "2018-10-22 00:00:00.000",
                                    "12": "1899-11-30 00:00:00.000",
                                    "13": "2018-10-22 00:00:00.000",
                                    "14": "2019-08-23 00:00:00.000",
                                    "15": "2018-05-15 00:00:00.000",
                                    "16": "2018-05-14 00:00:00.000",
                                    "17": "2019-08-23 00:00:00.000",
                                    "18": "1899-11-30 00:00:00.000",
                                    "19": "1899-11-30 00:00:00.000",
                                    "20": "Depleted",
                                    "21": "0",
                                    "22": "NULL",
                                    "23": "NULL",
                                    "24": "7889",
                                    "25": "797",
                                    "26": "2018-10-23 00:00:00.000",
                                    "27": "797",
                                    "28": "7889",
                                    "29": "3"
                                },
                                {
                                    "0": "004.N2-50117.344",
                                    "1": "BR",
                                    "2": "Brazil",
                                    "3": "004.N2",
                                    "4": "Granja 4.6",
                                    "5": "50117.344",
                                    "6": "344",
                                    "7": "BR",
                                    "8": "BRAZIL",
                                    "9": "Gilberto Rodrigues Costa",
                                    "10": "GP",
                                    "11": "2018-05-24 00:00:00.000",
                                    "12": "2018-09-25 00:00:00.000",
                                    "13": "2018-05-23 00:00:00.000",
                                    "14": "2019-01-10 00:00:00.000",
                                    "15": "2017-12-14 00:00:00.000",
                                    "16": "2017-12-13 00:00:00.000",
                                    "17": "2019-01-10 00:00:00.000",
                                    "18": "2018-09-29 00:00:00.000",
                                    "19": "1899-11-30 00:00:00.000",
                                    "20": "Depleted",
                                    "21": "0",
                                    "22": "NULL",
                                    "23": "NULL",
                                    "24": "5404",
                                    "25": "532",
                                    "26": "2018-05-24 00:00:00.000",
                                    "27": "526",
                                    "28": "5363",
                                    "29": "3"
                                },
                                {
                                    "0": "004.N3-03B19.AP95",
                                    "1": "BR",
                                    "2": "Brazil",
                                    "3": "004.N3",
                                    "4": "Granja 4.6",
                                    "5": "03B19.AP95",
                                    "6": "AP95",
                                    "7": "BR",
                                    "8": "BRAZIL",
                                    "9": "Gilberto Rodrigues Costa",
                                    "10": "GP",
                                    "11": "2019-03-29 00:00:00.000",
                                    "12": "2019-04-26 00:00:00.000",
                                    "13": "2019-01-31 00:00:00.000",
                                    "14": "1899-11-30 00:00:00.000",
                                    "15": "2019-01-16 00:00:00.000",
                                    "16": "2019-01-15 00:00:00.000",
                                    "17": "1899-11-30 00:00:00.000",
                                    "18": "2019-06-25 00:00:00.000",
                                    "19": "1899-11-30 00:00:00.000",
                                    "20": "Depleted",
                                    "21": "0",
                                    "22": "6115",
                                    "23": "NULL",
                                    "24": "12064",
                                    "25": "NULL",
                                    "26": "NULL",
                                    "27": "NULL",
                                    "28": "NULL",
                                    "29": "1"
                                }
                            ]
                        },
                        "text/html": [
                            "<table>",
                            "<tr><th>ComplexEntityNo</th><th>DivisionNo</th><th>DivisionName</th><th>FarmNo</th><th>FarmName</th><th>EntityNo</th><th>BreedNo</th><th>GrowoutNo</th><th>GrowoutName</th><th>TechSupervisorName</th><th>GenerationCode</th><th>AvgDateMovedIn</th><th>AvgDateMovedOut</th><th>FirstDateMovedIn</th><th>AvgDateSold</th><th>AvgDatePlaced</th><th>AvgHatchDate</th><th>LastDateSold</th><th>LastDateMovedOut</th><th>GrowDateMoved</th><th>STATUS</th><th>ExternalChickSource</th><th>FemalePlacement</th><th>MalePlacement</th><th>FemaleMovement</th><th>MaleMovement</th><th>DateCap</th><th>MalesCap</th><th>HensCap</th><th>EntityStage</th></tr>",
                            "<tr><td>001.N1-32116.AP95</td><td>BR</td><td>Brazil</td><td>001.N1</td><td>Granja 1.2</td><td>32116.AP95</td><td>AP95</td><td>BR</td><td>BRAZIL</td><td>Gilberto Rodrigues Costa</td><td>GP</td><td>2016-10-20 00:00:00.000</td><td>2016-11-10 00:00:00.000</td><td>2016-08-15 00:00:00.000</td><td>1899-11-30 00:00:00.000</td><td>2016-08-06 00:00:00.000</td><td>2016-08-05 00:00:00.000</td><td>1899-11-30 00:00:00.000</td><td>2017-01-13 00:00:00.000</td><td>1899-11-30 00:00:00.000</td><td>Depleted</td><td>0</td><td>8240</td><td>2069</td><td>22564</td><td>2461</td><td>NULL</td><td>NULL</td><td>NULL</td><td>1</td></tr>",
                            "<tr><td>001.N2-16118.AP95</td><td>BR</td><td>Brazil</td><td>001.N2</td><td>Granja 1.2</td><td>16118.AP95</td><td>AP95</td><td>BR</td><td>BRAZIL</td><td>Gilberto Rodrigues Costa</td><td>GP</td><td>2018-09-24 00:00:00.000</td><td>1899-11-30 00:00:00.000</td><td>2018-09-24 00:00:00.000</td><td>2019-07-16 00:00:00.000</td><td>2018-04-17 00:00:00.000</td><td>2018-04-16 00:00:00.000</td><td>2019-07-16 00:00:00.000</td><td>1899-11-30 00:00:00.000</td><td>1899-11-30 00:00:00.000</td><td>Depleted</td><td>0</td><td>NULL</td><td>NULL</td><td>5836</td><td>625</td><td>2018-09-25 00:00:00.000</td><td>625</td><td>5836</td><td>3</td></tr>",
                            "<tr><td>001.N5-22120.AP95</td><td>BR</td><td>Brazil</td><td>001.N5</td><td>Granja 1.2</td><td>22120.AP95</td><td>AP95</td><td>BR</td><td>BRAZIL</td><td>Aldair Alves</td><td>GP</td><td>2020-07-09 00:00:00.000</td><td>2020-07-09 00:00:00.000</td><td>2020-06-06 00:00:00.000</td><td>1899-11-30 00:00:00.000</td><td>2020-05-29 00:00:00.000</td><td>2020-05-28 00:00:00.000</td><td>1899-11-30 00:00:00.000</td><td>2020-09-22 00:00:00.000</td><td>1899-11-30 00:00:00.000</td><td>Active</td><td>0</td><td>9519</td><td>3804</td><td>20820</td><td>4083</td><td>NULL</td><td>NULL</td><td>NULL</td><td>1</td></tr>",
                            "<tr><td>001.N6-14117.344</td><td>BR</td><td>Brazil</td><td>001.N6</td><td>Granja 1.2</td><td>14117.344</td><td>344</td><td>BR</td><td>BRAZIL</td><td>Gilberto Rodrigues Costa</td><td>GP</td><td>2017-06-06 00:00:00.000</td><td>2017-07-04 00:00:00.000</td><td>2017-04-17 00:00:00.000</td><td>1899-11-30 00:00:00.000</td><td>2017-04-04 00:00:00.000</td><td>2017-04-03 00:00:00.000</td><td>1899-11-30 00:00:00.000</td><td>2017-09-11 00:00:00.000</td><td>1899-11-30 00:00:00.000</td><td>Depleted</td><td>0</td><td>2446</td><td>2086</td><td>4140</td><td>1869</td><td>NULL</td><td>NULL</td><td>NULL</td><td>1</td></tr>",
                            "<tr><td>001.N6-31119.AP95</td><td>BR</td><td>Brazil</td><td>001.N6</td><td>Granja 1.2</td><td>31119.AP95</td><td>AP95</td><td>BR</td><td>BRAZIL</td><td>Gilberto Rodrigues Costa</td><td>GP</td><td>2019-10-04 00:00:00.000</td><td>2019-11-04 00:00:00.000</td><td>2019-08-15 00:00:00.000</td><td>1899-11-30 00:00:00.000</td><td>2019-08-02 00:00:00.000</td><td>2019-08-01 00:00:00.000</td><td>1899-11-30 00:00:00.000</td><td>2020-01-09 00:00:00.000</td><td>1899-11-30 00:00:00.000</td><td>Depleted</td><td>0</td><td>8563</td><td>2374</td><td>16360</td><td>2672</td><td>NULL</td><td>NULL</td><td>NULL</td><td>1</td></tr>",
                            "<tr><td>001.N6-37116.AP95</td><td>BR</td><td>Brazil</td><td>001.N6</td><td>Granja 1.2</td><td>37116.AP95</td><td>AP95</td><td>BR</td><td>BRAZIL</td><td>Gilberto Rodrigues Costa</td><td>GP</td><td>2016-10-17 00:00:00.000</td><td>2016-11-18 00:00:00.000</td><td>2016-09-16 00:00:00.000</td><td>1899-11-30 00:00:00.000</td><td>2016-09-09 00:00:00.000</td><td>2016-09-08 00:00:00.000</td><td>1899-11-30 00:00:00.000</td><td>2017-02-16 00:00:00.000</td><td>1899-11-30 00:00:00.000</td><td>Depleted</td><td>0</td><td>9219</td><td>2397</td><td>25560</td><td>1120</td><td>NULL</td><td>NULL</td><td>NULL</td><td>1</td></tr>",
                            "<tr><td>001.N7-14117.AP95</td><td>BR</td><td>Brazil</td><td>001.N7</td><td>Granja 1.2</td><td>14117.AP95</td><td>AP95</td><td>BR</td><td>BRAZIL</td><td>Gilberto Rodrigues Costa</td><td>GP</td><td>2017-09-11 00:00:00.000</td><td>1899-11-30 00:00:00.000</td><td>2017-09-11 00:00:00.000</td><td>2018-06-27 00:00:00.000</td><td>2017-04-04 00:00:00.000</td><td>2017-04-03 00:00:00.000</td><td>2018-06-27 00:00:00.000</td><td>1899-11-30 00:00:00.000</td><td>1899-11-30 00:00:00.000</td><td>Depleted</td><td>0</td><td>NULL</td><td>NULL</td><td>7067</td><td>715</td><td>2017-09-12 00:00:00.000</td><td>715</td><td>7067</td><td>3</td></tr>",
                            "<tr><td>001.N7-20118.AP95</td><td>BR</td><td>Brazil</td><td>001.N7</td><td>Granja 1.2</td><td>20118.AP95</td><td>AP95</td><td>BR</td><td>BRAZIL</td><td>Gilberto Rodrigues Costa</td><td>GP</td><td>2018-10-22 00:00:00.000</td><td>1899-11-30 00:00:00.000</td><td>2018-10-22 00:00:00.000</td><td>2019-08-23 00:00:00.000</td><td>2018-05-15 00:00:00.000</td><td>2018-05-14 00:00:00.000</td><td>2019-08-23 00:00:00.000</td><td>1899-11-30 00:00:00.000</td><td>1899-11-30 00:00:00.000</td><td>Depleted</td><td>0</td><td>NULL</td><td>NULL</td><td>7889</td><td>797</td><td>2018-10-23 00:00:00.000</td><td>797</td><td>7889</td><td>3</td></tr>",
                            "<tr><td>004.N2-50117.344</td><td>BR</td><td>Brazil</td><td>004.N2</td><td>Granja 4.6</td><td>50117.344</td><td>344</td><td>BR</td><td>BRAZIL</td><td>Gilberto Rodrigues Costa</td><td>GP</td><td>2018-05-24 00:00:00.000</td><td>2018-09-25 00:00:00.000</td><td>2018-05-23 00:00:00.000</td><td>2019-01-10 00:00:00.000</td><td>2017-12-14 00:00:00.000</td><td>2017-12-13 00:00:00.000</td><td>2019-01-10 00:00:00.000</td><td>2018-09-29 00:00:00.000</td><td>1899-11-30 00:00:00.000</td><td>Depleted</td><td>0</td><td>NULL</td><td>NULL</td><td>5404</td><td>532</td><td>2018-05-24 00:00:00.000</td><td>526</td><td>5363</td><td>3</td></tr>",
                            "<tr><td>004.N3-03B19.AP95</td><td>BR</td><td>Brazil</td><td>004.N3</td><td>Granja 4.6</td><td>03B19.AP95</td><td>AP95</td><td>BR</td><td>BRAZIL</td><td>Gilberto Rodrigues Costa</td><td>GP</td><td>2019-03-29 00:00:00.000</td><td>2019-04-26 00:00:00.000</td><td>2019-01-31 00:00:00.000</td><td>1899-11-30 00:00:00.000</td><td>2019-01-16 00:00:00.000</td><td>2019-01-15 00:00:00.000</td><td>1899-11-30 00:00:00.000</td><td>2019-06-25 00:00:00.000</td><td>1899-11-30 00:00:00.000</td><td>Depleted</td><td>0</td><td>6115</td><td>NULL</td><td>12064</td><td>NULL</td><td>NULL</td><td>NULL</td><td>NULL</td><td>1</td></tr>",
                            "</table>"
                        ]
                    }
                }
            ],
            "execution_count": 2
        },
        {
            "cell_type": "markdown",
            "source": [
                "## Transactions\r\n",
                "\r\n",
                "This table contains every transaction associated with the set of Complex Entity numbers. "
            ],
            "metadata": {
                "azdata_cell_guid": "30419524-cfcd-4af3-a881-149d7bd6051a"
            }
        },
        {
            "cell_type": "code",
            "source": [
                ";with entities as \r\n",
                "(\r\n",
                "    SELECT ProteinEntitiesIRN\r\n",
                "    ,rtrim(FarmNo) + '-' + rtrim(EntityNo) AS ComplexEntityNo\r\n",
                "    ,(SELECT AvgHatchDate from mtech.mvBimEntities WHERE GRN='F' and FarmNo = a.FarmNo and EntityNo = a.EntityNo) AS AvgHatchDate\r\n",
                "    ,(SELECT DateCap from mtech.mvBimEntities WHERE GRN='F' and FarmNo = a.FarmNo and EntityNo = a.EntityNo) AS DateCap\r\n",
                "    FROM mtech.mvBimEntities a\r\n",
                "    WHERE GRN IN ('H','P')\r\n",
                "    AND AvgHatchDate >='1/1/16'\r\n",
                ")\r\n",
                "\r\n",
                ",hatch as \r\n",
                "(\r\n",
                "SELECT rtrim(FarmNo) + '-' + rtrim(EntityNo) AS ComplexEntityNo\r\n",
                ",ProdDate\r\n",
                ",SUM(EggsSet) AS EggsSet\r\n",
                ",SUM(TotalChicksHatched) AS TotalChicksHatched\r\n",
                "FROM mtech.HimHatchTrans a \r\n",
                "join mtech.ProteinEntities b \r\n",
                "ON a.ProteinEntitiesIRN = b.IRN \r\n",
                "JOIN mtech.ProteinFarms c \r\n",
                "ON b.ProteinFarmsIRN = c.IRN\r\n",
                "GROUP BY rtrim(FarmNo) + '-' + rtrim(EntityNo), ProdDate\r\n",
                ")\r\n",
                "\r\n",
                ",data as \r\n",
                "(\r\n",
                "SELECT ComplexEntityNo\r\n",
                "    , BFT.xDate\r\n",
                "    ,datediff(week,AvgHatchDate, xDate) as Weeks\r\n",
                "    ,DATEADD(dd, 7-(DATEPART(dw, xDate)), xDate) [WeekEnd]\r\n",
                "    ,CASE WHEN xDate >= DateCap THEN 1 ELSE 0 END AS Capped\r\n",
                "\t , SUM(BFT.AddedF) AddedF\r\n",
                "\t , SUM(BFT.AddedM) AddedM\r\n",
                "     , SUM(CullEggsProd) CullEggsProd\r\n",
                "     , SUM(HatchEggsProd) HatchEggsProd\r\n",
                "     , SUM(U_HatchEgg) U_HatchEgg\r\n",
                "     , SUM(TotalEggsProd) TotalEggsProd\r\n",
                "\t , SUM(BFT.U_HatchEggProd) U_HatchEggProd\r\n",
                "\t , SUM(BFT.U_HEGradeAProd) U_HEGradeAProd\r\n",
                "\t , SUM(BFT.U_HEGradeBProd) U_HEGradeBProd\r\n",
                "\t , SUM(BFT.U_HECategory4Prod) U_HECategory4Prod\r\n",
                "\t , SUM(BFT.U_HECategory5Prod) U_HECategory5Prod\r\n",
                "\t , SUM(BFT.U_HECategory6Prod) U_HECategory6Prod\r\n",
                "\t , SUM(BFT.U_HECategory7Prod) U_HECategory7Prod\r\n",
                "\t , SUM(BFT.U_HECategory8Prod) U_HECategory8Prod\r\n",
                "\t , SUM(BFT.U_HECategory9Prod) U_HECategory9Prod\r\n",
                "\t , SUM(BFT.U_CullEggFloorProd) U_CullEggFloorProd\r\n",
                "\t , SUM(BFT.U_CullEggSoftShellProd) U_CullEggSoftShellProd\r\n",
                "\t , SUM(BFT.U_CDoubleYolkProd) U_CDoubleYolkProd\r\n",
                "\t , SUM(BFT.U_CMisshapedEggProd) U_CMisshapedEggProd\r\n",
                "\t , SUM(BFT.U_CSmallEggProd) U_CSmallEggProd\r\n",
                "     ,0 AS U_CDirtyProd\r\n",
                "\t , SUM(BFT.U_UnusedEggsProd) U_UnusedEggsProd\r\n",
                "     ,0 AS U_HE2ndNWProd\r\n",
                "     ,0 AS U_HE2ndWProd\r\n",
                "\t , SUM(BFT.U_CDestroyedProd) U_CDestroyedProd\r\n",
                "\t , SUM(BFT.U_ComercialProd) U_CommercialProd\r\n",
                "\t , SUM(BFT.U_CCrackedEggProd) U_CCrackedEggProd\r\n",
                "\t , SUM(BFT.U_COtherProd) U_COtherProd\r\n",
                "\t , CASE WHEN SUM(BFT.EggWeight * TotalEggsProd) > 0 THEN SUM(BFT.EggWeight * TotalEggsProd)/SUM(CASE WHEN EggWeight > 0 THEN TotalEggsProd ELSE 0 END) ELSE 0 END AS EggWeight\r\n",
                "\t , SUM(BFT.U_FloorEggs) U_FloorEggs\r\n",
                "\t , SUM(BFT.FeedConsumedM) FeedConsumedM\r\n",
                "\t , SUM(BFT.FeedConsumedF) FeedConsumedF\r\n",
                "\t , SUM(BFT.MortalityM) MortalityM\r\n",
                "\t , SUM(BFT.U_CLegMale) U_CLegMale\r\n",
                "\t , SUM(BFT.U_CRupturedTendonMale) U_CRupturedTendonMale\r\n",
                "\t , SUM(BFT.U_CullOtherMale) U_CullOtherMale\r\n",
                "\t , SUM(BFT.U_CullSelectionMale) U_CullSelectionMale\r\n",
                "\t , SUM(BFT.U_CullSexErrorMale) U_CullSexErrorMale\r\n",
                "\t , SUM(BFT.MortalityF) MortalityF\r\n",
                "\t , SUM(BFT.U_CLeg) U_CLeg\r\n",
                "\t , SUM(BFT.U_CRupturedTendon) U_CRupturedTendon\r\n",
                "\t , SUM(BFT.U_CullOther) U_CullOther\r\n",
                "\t , SUM(BFT.U_CullSelection) U_CullSelection\r\n",
                "\t , SUM(BFT.U_CullSexError) U_CullSexError\r\n",
                "\t , Avg(BFT.WeightF) WeightF\r\n",
                "\t , Avg(BFT.WeightM) WeightM\r\n",
                "\t , SUM(BFT.UniformityF) UniformityF\r\n",
                "\t , SUM(BFT.UniformityM) UniformityM\r\n",
                "\t , Avg(BFT.UniformityCvF) UniformityCvF\r\n",
                "\t , Avg(BFT.UniformityCvM) UniformityCvM\r\n",
                "\t , SUM(BFT.Water) Water\r\n",
                "\t , SUM(BFT.U_CullDropCrop) U_CullDropCrop\r\n",
                "\t , SUM(BFT.U_CullDropCropMale) U_CullDropCropMale\r\n",
                "\t , SUM(BFT.U_CFlockSample) U_CFlockSample\r\n",
                "\t , SUM(BFT.U_CFlockSampleMale) U_CFlockSampleMale\r\n",
                "     ,SUM(coalesce(U_CullOther,0) + coalesce(U_CullSelection,0) + coalesce(U_CullSexError,0) + coalesce(U_CLeg,0) + coalesce(U_CRupturedTendon,0) + coalesce(U_CullDropCrop,0) + coalesce(U_CFlockSample,0)) CullF\r\n",
                "     ,SUM(coalesce(U_CullOtherMale,0) + coalesce(U_CullSelectionMale,0) + coalesce(U_CullSexErrorMale,0) + coalesce(U_CLegMale,0) + coalesce(U_CRupturedTendonMale,0) + coalesce(U_CullDropCropMale,0)+ coalesce(U_CFlockSampleMale,0)) AS CullM\r\n",
                "     ,SUM(coalesce(MortalityF,0) + coalesce(U_CullOther,0) + coalesce(U_CullSelection,0) + coalesce(U_CullSexError,0) + coalesce(U_CLeg,0) + coalesce(U_CRupturedTendon,0) + coalesce(U_CullDropCrop,0)+ coalesce(U_CFlockSample,0)) DepletionF\r\n",
                "     ,SUM(coalesce(MortalityM,0) + coalesce(U_CullOtherMale,0) + coalesce(U_CullSelectionMale,0) + coalesce(U_CullSexErrorMale,0) + coalesce(U_CLegMale,0) + coalesce(U_CRupturedTendonMale,0) + coalesce(U_CullDropCropMale,0)+ coalesce(U_CFlockSampleMale,0)) AS DepletionM\r\n",
                "  FROM entities VBE\r\n",
                " INNER JOIN mtech.BimFieldTrans BFT\r\n",
                "    ON VBE.ProteinEntitiesIRN = BFT.ProteinEntitiesIRN\r\n",
                " WHERE BFT.EntityHistoryFlag = 0\r\n",
                " GROUP BY VBE.ComplexEntityNo, BFT.xDate, AvgHatchDate, DateCap\r\n",
                ")\r\n",
                "\r\n",
                " Select top 10\r\n",
                " a.*\r\n",
                " , b.EggsSet, TotalChicksHatched\r\n",
                " FROM data a \r\n",
                " LEFT JOIN hatch b \r\n",
                " ON a.ComplexEntityNo = b.ComplexEntityNo and a.xDate=b.ProdDate\r\n",
                " ORDER BY xDate"
            ],
            "metadata": {
                "azdata_cell_guid": "35ab0aea-58f2-4889-806c-707139e4a47c"
            },
            "outputs": [
                {
                    "output_type": "display_data",
                    "data": {
                        "text/html": "Warning: Null value is eliminated by an aggregate or other SET operation."
                    },
                    "metadata": {}
                },
                {
                    "output_type": "display_data",
                    "data": {
                        "text/html": "(10 rows affected)"
                    },
                    "metadata": {}
                },
                {
                    "output_type": "display_data",
                    "data": {
                        "text/html": "Total execution time: 00:01:25.123"
                    },
                    "metadata": {}
                },
                {
                    "output_type": "execute_result",
                    "metadata": {},
                    "execution_count": 3,
                    "data": {
                        "application/vnd.dataresource+json": {
                            "schema": {
                                "fields": [
                                    {
                                        "name": "ComplexEntityNo"
                                    },
                                    {
                                        "name": "xDate"
                                    },
                                    {
                                        "name": "Weeks"
                                    },
                                    {
                                        "name": "WeekEnd"
                                    },
                                    {
                                        "name": "Capped"
                                    },
                                    {
                                        "name": "AddedF"
                                    },
                                    {
                                        "name": "AddedM"
                                    },
                                    {
                                        "name": "CullEggsProd"
                                    },
                                    {
                                        "name": "HatchEggsProd"
                                    },
                                    {
                                        "name": "U_HatchEgg"
                                    },
                                    {
                                        "name": "TotalEggsProd"
                                    },
                                    {
                                        "name": "U_HatchEggProd"
                                    },
                                    {
                                        "name": "U_HEGradeAProd"
                                    },
                                    {
                                        "name": "U_HEGradeBProd"
                                    },
                                    {
                                        "name": "U_HECategory4Prod"
                                    },
                                    {
                                        "name": "U_HECategory5Prod"
                                    },
                                    {
                                        "name": "U_HECategory6Prod"
                                    },
                                    {
                                        "name": "U_HECategory7Prod"
                                    },
                                    {
                                        "name": "U_HECategory8Prod"
                                    },
                                    {
                                        "name": "U_HECategory9Prod"
                                    },
                                    {
                                        "name": "U_CullEggFloorProd"
                                    },
                                    {
                                        "name": "U_CullEggSoftShellProd"
                                    },
                                    {
                                        "name": "U_CDoubleYolkProd"
                                    },
                                    {
                                        "name": "U_CMisshapedEggProd"
                                    },
                                    {
                                        "name": "U_CSmallEggProd"
                                    },
                                    {
                                        "name": "U_CDirtyProd"
                                    },
                                    {
                                        "name": "U_UnusedEggsProd"
                                    },
                                    {
                                        "name": "U_HE2ndNWProd"
                                    },
                                    {
                                        "name": "U_HE2ndWProd"
                                    },
                                    {
                                        "name": "U_CDestroyedProd"
                                    },
                                    {
                                        "name": "U_CommercialProd"
                                    },
                                    {
                                        "name": "U_CCrackedEggProd"
                                    },
                                    {
                                        "name": "U_COtherProd"
                                    },
                                    {
                                        "name": "EggWeight"
                                    },
                                    {
                                        "name": "U_FloorEggs"
                                    },
                                    {
                                        "name": "FeedConsumedM"
                                    },
                                    {
                                        "name": "FeedConsumedF"
                                    },
                                    {
                                        "name": "MortalityM"
                                    },
                                    {
                                        "name": "U_CLegMale"
                                    },
                                    {
                                        "name": "U_CRupturedTendonMale"
                                    },
                                    {
                                        "name": "U_CullOtherMale"
                                    },
                                    {
                                        "name": "U_CullSelectionMale"
                                    },
                                    {
                                        "name": "U_CullSexErrorMale"
                                    },
                                    {
                                        "name": "MortalityF"
                                    },
                                    {
                                        "name": "U_CLeg"
                                    },
                                    {
                                        "name": "U_CRupturedTendon"
                                    },
                                    {
                                        "name": "U_CullOther"
                                    },
                                    {
                                        "name": "U_CullSelection"
                                    },
                                    {
                                        "name": "U_CullSexError"
                                    },
                                    {
                                        "name": "WeightF"
                                    },
                                    {
                                        "name": "WeightM"
                                    },
                                    {
                                        "name": "UniformityF"
                                    },
                                    {
                                        "name": "UniformityM"
                                    },
                                    {
                                        "name": "UniformityCvF"
                                    },
                                    {
                                        "name": "UniformityCvM"
                                    },
                                    {
                                        "name": "Water"
                                    },
                                    {
                                        "name": "U_CullDropCrop"
                                    },
                                    {
                                        "name": "U_CullDropCropMale"
                                    },
                                    {
                                        "name": "U_CFlockSample"
                                    },
                                    {
                                        "name": "U_CFlockSampleMale"
                                    },
                                    {
                                        "name": "CullF"
                                    },
                                    {
                                        "name": "CullM"
                                    },
                                    {
                                        "name": "DepletionF"
                                    },
                                    {
                                        "name": "DepletionM"
                                    },
                                    {
                                        "name": "EggsSet"
                                    },
                                    {
                                        "name": "TotalChicksHatched"
                                    }
                                ]
                            },
                            "data": [
                                {
                                    "0": "315-3081892YC",
                                    "1": "2000-01-30 00:00:00.000",
                                    "2": "-957",
                                    "3": "2000-02-05 00:00:00.000",
                                    "4": "0",
                                    "5": "0",
                                    "6": "0",
                                    "7": "0",
                                    "8": "0",
                                    "9": "NULL",
                                    "10": "0",
                                    "11": "0",
                                    "12": "0",
                                    "13": "0",
                                    "14": "0",
                                    "15": "0",
                                    "16": "0",
                                    "17": "0",
                                    "18": "0",
                                    "19": "0",
                                    "20": "0",
                                    "21": "0",
                                    "22": "0",
                                    "23": "0",
                                    "24": "0",
                                    "25": "0",
                                    "26": "0",
                                    "27": "0",
                                    "28": "0",
                                    "29": "0",
                                    "30": "0",
                                    "31": "0",
                                    "32": "0",
                                    "33": "0.000000000",
                                    "34": "NULL",
                                    "35": "0.0000000000",
                                    "36": "0.0000000000",
                                    "37": "0",
                                    "38": "0",
                                    "39": "0",
                                    "40": "0",
                                    "41": "0",
                                    "42": "0",
                                    "43": "0",
                                    "44": "0",
                                    "45": "NULL",
                                    "46": "0",
                                    "47": "0",
                                    "48": "0",
                                    "49": "0.0000000000",
                                    "50": "0.0000000000",
                                    "51": "0.0000000000",
                                    "52": "0.0000000000",
                                    "53": "0.0000000000",
                                    "54": "0.0000000000",
                                    "55": "0.0000000000",
                                    "56": "0",
                                    "57": "0",
                                    "58": "0",
                                    "59": "0",
                                    "60": "0",
                                    "61": "0",
                                    "62": "0",
                                    "63": "0",
                                    "64": "NULL",
                                    "65": "NULL"
                                },
                                {
                                    "0": "315-3081892YC",
                                    "1": "2000-01-31 00:00:00.000",
                                    "2": "-957",
                                    "3": "2000-02-05 00:00:00.000",
                                    "4": "0",
                                    "5": "0",
                                    "6": "0",
                                    "7": "0",
                                    "8": "0",
                                    "9": "NULL",
                                    "10": "0",
                                    "11": "0",
                                    "12": "0",
                                    "13": "0",
                                    "14": "0",
                                    "15": "0",
                                    "16": "0",
                                    "17": "0",
                                    "18": "0",
                                    "19": "0",
                                    "20": "0",
                                    "21": "0",
                                    "22": "0",
                                    "23": "0",
                                    "24": "0",
                                    "25": "0",
                                    "26": "0",
                                    "27": "0",
                                    "28": "0",
                                    "29": "0",
                                    "30": "0",
                                    "31": "0",
                                    "32": "0",
                                    "33": "0.000000000",
                                    "34": "NULL",
                                    "35": "0.0000000000",
                                    "36": "0.0000000000",
                                    "37": "0",
                                    "38": "0",
                                    "39": "0",
                                    "40": "0",
                                    "41": "0",
                                    "42": "0",
                                    "43": "0",
                                    "44": "0",
                                    "45": "NULL",
                                    "46": "0",
                                    "47": "0",
                                    "48": "0",
                                    "49": "0.0000000000",
                                    "50": "0.0000000000",
                                    "51": "0.0000000000",
                                    "52": "0.0000000000",
                                    "53": "0.0000000000",
                                    "54": "0.0000000000",
                                    "55": "0.0000000000",
                                    "56": "0",
                                    "57": "0",
                                    "58": "0",
                                    "59": "0",
                                    "60": "0",
                                    "61": "0",
                                    "62": "0",
                                    "63": "0",
                                    "64": "NULL",
                                    "65": "NULL"
                                },
                                {
                                    "0": "315-3081892YC",
                                    "1": "2000-02-01 00:00:00.000",
                                    "2": "-957",
                                    "3": "2000-02-05 00:00:00.000",
                                    "4": "0",
                                    "5": "0",
                                    "6": "0",
                                    "7": "0",
                                    "8": "0",
                                    "9": "NULL",
                                    "10": "0",
                                    "11": "0",
                                    "12": "0",
                                    "13": "0",
                                    "14": "0",
                                    "15": "0",
                                    "16": "0",
                                    "17": "0",
                                    "18": "0",
                                    "19": "0",
                                    "20": "0",
                                    "21": "0",
                                    "22": "0",
                                    "23": "0",
                                    "24": "0",
                                    "25": "0",
                                    "26": "0",
                                    "27": "0",
                                    "28": "0",
                                    "29": "0",
                                    "30": "0",
                                    "31": "0",
                                    "32": "0",
                                    "33": "0.000000000",
                                    "34": "NULL",
                                    "35": "0.0000000000",
                                    "36": "0.0000000000",
                                    "37": "0",
                                    "38": "0",
                                    "39": "0",
                                    "40": "0",
                                    "41": "0",
                                    "42": "0",
                                    "43": "0",
                                    "44": "0",
                                    "45": "NULL",
                                    "46": "0",
                                    "47": "0",
                                    "48": "0",
                                    "49": "0.0000000000",
                                    "50": "0.0000000000",
                                    "51": "0.0000000000",
                                    "52": "0.0000000000",
                                    "53": "0.0000000000",
                                    "54": "0.0000000000",
                                    "55": "0.0000000000",
                                    "56": "0",
                                    "57": "0",
                                    "58": "0",
                                    "59": "0",
                                    "60": "0",
                                    "61": "0",
                                    "62": "0",
                                    "63": "0",
                                    "64": "NULL",
                                    "65": "NULL"
                                },
                                {
                                    "0": "315-3081892YC",
                                    "1": "2000-02-02 00:00:00.000",
                                    "2": "-957",
                                    "3": "2000-02-05 00:00:00.000",
                                    "4": "0",
                                    "5": "0",
                                    "6": "0",
                                    "7": "0",
                                    "8": "0",
                                    "9": "NULL",
                                    "10": "0",
                                    "11": "0",
                                    "12": "0",
                                    "13": "0",
                                    "14": "0",
                                    "15": "0",
                                    "16": "0",
                                    "17": "0",
                                    "18": "0",
                                    "19": "0",
                                    "20": "0",
                                    "21": "0",
                                    "22": "0",
                                    "23": "0",
                                    "24": "0",
                                    "25": "0",
                                    "26": "0",
                                    "27": "0",
                                    "28": "0",
                                    "29": "0",
                                    "30": "0",
                                    "31": "0",
                                    "32": "0",
                                    "33": "0.000000000",
                                    "34": "NULL",
                                    "35": "0.0000000000",
                                    "36": "0.0000000000",
                                    "37": "0",
                                    "38": "0",
                                    "39": "0",
                                    "40": "0",
                                    "41": "0",
                                    "42": "0",
                                    "43": "0",
                                    "44": "0",
                                    "45": "NULL",
                                    "46": "0",
                                    "47": "0",
                                    "48": "0",
                                    "49": "0.0000000000",
                                    "50": "0.0000000000",
                                    "51": "0.0000000000",
                                    "52": "0.0000000000",
                                    "53": "0.0000000000",
                                    "54": "0.0000000000",
                                    "55": "0.0000000000",
                                    "56": "0",
                                    "57": "0",
                                    "58": "0",
                                    "59": "0",
                                    "60": "0",
                                    "61": "0",
                                    "62": "0",
                                    "63": "0",
                                    "64": "NULL",
                                    "65": "NULL"
                                },
                                {
                                    "0": "315-3081892YC",
                                    "1": "2000-02-03 00:00:00.000",
                                    "2": "-957",
                                    "3": "2000-02-05 00:00:00.000",
                                    "4": "0",
                                    "5": "0",
                                    "6": "0",
                                    "7": "0",
                                    "8": "0",
                                    "9": "NULL",
                                    "10": "0",
                                    "11": "0",
                                    "12": "0",
                                    "13": "0",
                                    "14": "0",
                                    "15": "0",
                                    "16": "0",
                                    "17": "0",
                                    "18": "0",
                                    "19": "0",
                                    "20": "0",
                                    "21": "0",
                                    "22": "0",
                                    "23": "0",
                                    "24": "0",
                                    "25": "0",
                                    "26": "0",
                                    "27": "0",
                                    "28": "0",
                                    "29": "0",
                                    "30": "0",
                                    "31": "0",
                                    "32": "0",
                                    "33": "0.000000000",
                                    "34": "NULL",
                                    "35": "0.0000000000",
                                    "36": "0.0000000000",
                                    "37": "0",
                                    "38": "0",
                                    "39": "0",
                                    "40": "0",
                                    "41": "0",
                                    "42": "0",
                                    "43": "0",
                                    "44": "0",
                                    "45": "NULL",
                                    "46": "0",
                                    "47": "0",
                                    "48": "0",
                                    "49": "0.0000000000",
                                    "50": "0.0000000000",
                                    "51": "0.0000000000",
                                    "52": "0.0000000000",
                                    "53": "0.0000000000",
                                    "54": "0.0000000000",
                                    "55": "0.0000000000",
                                    "56": "0",
                                    "57": "0",
                                    "58": "0",
                                    "59": "0",
                                    "60": "0",
                                    "61": "0",
                                    "62": "0",
                                    "63": "0",
                                    "64": "NULL",
                                    "65": "NULL"
                                },
                                {
                                    "0": "315-3081892YC",
                                    "1": "2000-02-04 00:00:00.000",
                                    "2": "-957",
                                    "3": "2000-02-05 00:00:00.000",
                                    "4": "0",
                                    "5": "0",
                                    "6": "0",
                                    "7": "0",
                                    "8": "0",
                                    "9": "NULL",
                                    "10": "0",
                                    "11": "0",
                                    "12": "0",
                                    "13": "0",
                                    "14": "0",
                                    "15": "0",
                                    "16": "0",
                                    "17": "0",
                                    "18": "0",
                                    "19": "0",
                                    "20": "0",
                                    "21": "0",
                                    "22": "0",
                                    "23": "0",
                                    "24": "0",
                                    "25": "0",
                                    "26": "0",
                                    "27": "0",
                                    "28": "0",
                                    "29": "0",
                                    "30": "0",
                                    "31": "0",
                                    "32": "0",
                                    "33": "0.000000000",
                                    "34": "NULL",
                                    "35": "0.0000000000",
                                    "36": "0.0000000000",
                                    "37": "0",
                                    "38": "0",
                                    "39": "0",
                                    "40": "0",
                                    "41": "0",
                                    "42": "0",
                                    "43": "0",
                                    "44": "0",
                                    "45": "NULL",
                                    "46": "0",
                                    "47": "0",
                                    "48": "0",
                                    "49": "0.0000000000",
                                    "50": "0.0000000000",
                                    "51": "0.0000000000",
                                    "52": "0.0000000000",
                                    "53": "0.0000000000",
                                    "54": "0.0000000000",
                                    "55": "0.0000000000",
                                    "56": "0",
                                    "57": "0",
                                    "58": "0",
                                    "59": "0",
                                    "60": "0",
                                    "61": "0",
                                    "62": "0",
                                    "63": "0",
                                    "64": "NULL",
                                    "65": "NULL"
                                },
                                {
                                    "0": "315-3081892YC",
                                    "1": "2000-02-05 00:00:00.000",
                                    "2": "-957",
                                    "3": "2000-02-05 00:00:00.000",
                                    "4": "0",
                                    "5": "0",
                                    "6": "0",
                                    "7": "0",
                                    "8": "0",
                                    "9": "NULL",
                                    "10": "0",
                                    "11": "0",
                                    "12": "0",
                                    "13": "0",
                                    "14": "0",
                                    "15": "0",
                                    "16": "0",
                                    "17": "0",
                                    "18": "0",
                                    "19": "0",
                                    "20": "0",
                                    "21": "0",
                                    "22": "0",
                                    "23": "0",
                                    "24": "0",
                                    "25": "0",
                                    "26": "0",
                                    "27": "0",
                                    "28": "0",
                                    "29": "0",
                                    "30": "0",
                                    "31": "0",
                                    "32": "0",
                                    "33": "0.000000000",
                                    "34": "NULL",
                                    "35": "0.0000000000",
                                    "36": "0.0000000000",
                                    "37": "0",
                                    "38": "0",
                                    "39": "0",
                                    "40": "0",
                                    "41": "0",
                                    "42": "0",
                                    "43": "0",
                                    "44": "0",
                                    "45": "NULL",
                                    "46": "0",
                                    "47": "0",
                                    "48": "0",
                                    "49": "0.0000000000",
                                    "50": "0.0000000000",
                                    "51": "0.0000000000",
                                    "52": "0.0000000000",
                                    "53": "0.0000000000",
                                    "54": "0.0000000000",
                                    "55": "0.0000000000",
                                    "56": "0",
                                    "57": "0",
                                    "58": "0",
                                    "59": "0",
                                    "60": "0",
                                    "61": "0",
                                    "62": "0",
                                    "63": "0",
                                    "64": "NULL",
                                    "65": "NULL"
                                },
                                {
                                    "0": "315-3081892YC",
                                    "1": "2000-02-06 00:00:00.000",
                                    "2": "-956",
                                    "3": "2000-02-12 00:00:00.000",
                                    "4": "0",
                                    "5": "0",
                                    "6": "0",
                                    "7": "0",
                                    "8": "0",
                                    "9": "NULL",
                                    "10": "0",
                                    "11": "0",
                                    "12": "0",
                                    "13": "0",
                                    "14": "0",
                                    "15": "0",
                                    "16": "0",
                                    "17": "0",
                                    "18": "0",
                                    "19": "0",
                                    "20": "0",
                                    "21": "0",
                                    "22": "0",
                                    "23": "0",
                                    "24": "0",
                                    "25": "0",
                                    "26": "0",
                                    "27": "0",
                                    "28": "0",
                                    "29": "0",
                                    "30": "0",
                                    "31": "0",
                                    "32": "0",
                                    "33": "0.000000000",
                                    "34": "NULL",
                                    "35": "0.0000000000",
                                    "36": "0.0000000000",
                                    "37": "0",
                                    "38": "0",
                                    "39": "0",
                                    "40": "0",
                                    "41": "0",
                                    "42": "0",
                                    "43": "0",
                                    "44": "0",
                                    "45": "NULL",
                                    "46": "0",
                                    "47": "0",
                                    "48": "0",
                                    "49": "0.0000000000",
                                    "50": "0.0000000000",
                                    "51": "0.0000000000",
                                    "52": "0.0000000000",
                                    "53": "0.0000000000",
                                    "54": "0.0000000000",
                                    "55": "0.0000000000",
                                    "56": "0",
                                    "57": "0",
                                    "58": "0",
                                    "59": "0",
                                    "60": "0",
                                    "61": "0",
                                    "62": "0",
                                    "63": "0",
                                    "64": "NULL",
                                    "65": "NULL"
                                },
                                {
                                    "0": "315-3081892YC",
                                    "1": "2000-02-07 00:00:00.000",
                                    "2": "-956",
                                    "3": "2000-02-12 00:00:00.000",
                                    "4": "0",
                                    "5": "0",
                                    "6": "0",
                                    "7": "0",
                                    "8": "0",
                                    "9": "NULL",
                                    "10": "0",
                                    "11": "0",
                                    "12": "0",
                                    "13": "0",
                                    "14": "0",
                                    "15": "0",
                                    "16": "0",
                                    "17": "0",
                                    "18": "0",
                                    "19": "0",
                                    "20": "0",
                                    "21": "0",
                                    "22": "0",
                                    "23": "0",
                                    "24": "0",
                                    "25": "0",
                                    "26": "0",
                                    "27": "0",
                                    "28": "0",
                                    "29": "0",
                                    "30": "0",
                                    "31": "0",
                                    "32": "0",
                                    "33": "0.000000000",
                                    "34": "NULL",
                                    "35": "0.0000000000",
                                    "36": "0.0000000000",
                                    "37": "0",
                                    "38": "0",
                                    "39": "0",
                                    "40": "0",
                                    "41": "0",
                                    "42": "0",
                                    "43": "0",
                                    "44": "0",
                                    "45": "NULL",
                                    "46": "0",
                                    "47": "0",
                                    "48": "0",
                                    "49": "0.0000000000",
                                    "50": "0.0000000000",
                                    "51": "0.0000000000",
                                    "52": "0.0000000000",
                                    "53": "0.0000000000",
                                    "54": "0.0000000000",
                                    "55": "0.0000000000",
                                    "56": "0",
                                    "57": "0",
                                    "58": "0",
                                    "59": "0",
                                    "60": "0",
                                    "61": "0",
                                    "62": "0",
                                    "63": "0",
                                    "64": "NULL",
                                    "65": "NULL"
                                },
                                {
                                    "0": "315-3081892YC",
                                    "1": "2000-02-08 00:00:00.000",
                                    "2": "-956",
                                    "3": "2000-02-12 00:00:00.000",
                                    "4": "0",
                                    "5": "0",
                                    "6": "0",
                                    "7": "0",
                                    "8": "0",
                                    "9": "NULL",
                                    "10": "0",
                                    "11": "0",
                                    "12": "0",
                                    "13": "0",
                                    "14": "0",
                                    "15": "0",
                                    "16": "0",
                                    "17": "0",
                                    "18": "0",
                                    "19": "0",
                                    "20": "0",
                                    "21": "0",
                                    "22": "0",
                                    "23": "0",
                                    "24": "0",
                                    "25": "0",
                                    "26": "0",
                                    "27": "0",
                                    "28": "0",
                                    "29": "0",
                                    "30": "0",
                                    "31": "0",
                                    "32": "0",
                                    "33": "0.000000000",
                                    "34": "NULL",
                                    "35": "0.0000000000",
                                    "36": "0.0000000000",
                                    "37": "0",
                                    "38": "0",
                                    "39": "0",
                                    "40": "0",
                                    "41": "0",
                                    "42": "0",
                                    "43": "0",
                                    "44": "0",
                                    "45": "NULL",
                                    "46": "0",
                                    "47": "0",
                                    "48": "0",
                                    "49": "0.0000000000",
                                    "50": "0.0000000000",
                                    "51": "0.0000000000",
                                    "52": "0.0000000000",
                                    "53": "0.0000000000",
                                    "54": "0.0000000000",
                                    "55": "0.0000000000",
                                    "56": "0",
                                    "57": "0",
                                    "58": "0",
                                    "59": "0",
                                    "60": "0",
                                    "61": "0",
                                    "62": "0",
                                    "63": "0",
                                    "64": "NULL",
                                    "65": "NULL"
                                }
                            ]
                        },
                        "text/html": [
                            "<table>",
                            "<tr><th>ComplexEntityNo</th><th>xDate</th><th>Weeks</th><th>WeekEnd</th><th>Capped</th><th>AddedF</th><th>AddedM</th><th>CullEggsProd</th><th>HatchEggsProd</th><th>U_HatchEgg</th><th>TotalEggsProd</th><th>U_HatchEggProd</th><th>U_HEGradeAProd</th><th>U_HEGradeBProd</th><th>U_HECategory4Prod</th><th>U_HECategory5Prod</th><th>U_HECategory6Prod</th><th>U_HECategory7Prod</th><th>U_HECategory8Prod</th><th>U_HECategory9Prod</th><th>U_CullEggFloorProd</th><th>U_CullEggSoftShellProd</th><th>U_CDoubleYolkProd</th><th>U_CMisshapedEggProd</th><th>U_CSmallEggProd</th><th>U_CDirtyProd</th><th>U_UnusedEggsProd</th><th>U_HE2ndNWProd</th><th>U_HE2ndWProd</th><th>U_CDestroyedProd</th><th>U_CommercialProd</th><th>U_CCrackedEggProd</th><th>U_COtherProd</th><th>EggWeight</th><th>U_FloorEggs</th><th>FeedConsumedM</th><th>FeedConsumedF</th><th>MortalityM</th><th>U_CLegMale</th><th>U_CRupturedTendonMale</th><th>U_CullOtherMale</th><th>U_CullSelectionMale</th><th>U_CullSexErrorMale</th><th>MortalityF</th><th>U_CLeg</th><th>U_CRupturedTendon</th><th>U_CullOther</th><th>U_CullSelection</th><th>U_CullSexError</th><th>WeightF</th><th>WeightM</th><th>UniformityF</th><th>UniformityM</th><th>UniformityCvF</th><th>UniformityCvM</th><th>Water</th><th>U_CullDropCrop</th><th>U_CullDropCropMale</th><th>U_CFlockSample</th><th>U_CFlockSampleMale</th><th>CullF</th><th>CullM</th><th>DepletionF</th><th>DepletionM</th><th>EggsSet</th><th>TotalChicksHatched</th></tr>",
                            "<tr><td>315-3081892YC</td><td>2000-01-30 00:00:00.000</td><td>-957</td><td>2000-02-05 00:00:00.000</td><td>0</td><td>0</td><td>0</td><td>0</td><td>0</td><td>NULL</td><td>0</td><td>0</td><td>0</td><td>0</td><td>0</td><td>0</td><td>0</td><td>0</td><td>0</td><td>0</td><td>0</td><td>0</td><td>0</td><td>0</td><td>0</td><td>0</td><td>0</td><td>0</td><td>0</td><td>0</td><td>0</td><td>0</td><td>0</td><td>0.000000000</td><td>NULL</td><td>0.0000000000</td><td>0.0000000000</td><td>0</td><td>0</td><td>0</td><td>0</td><td>0</td><td>0</td><td>0</td><td>0</td><td>NULL</td><td>0</td><td>0</td><td>0</td><td>0.0000000000</td><td>0.0000000000</td><td>0.0000000000</td><td>0.0000000000</td><td>0.0000000000</td><td>0.0000000000</td><td>0.0000000000</td><td>0</td><td>0</td><td>0</td><td>0</td><td>0</td><td>0</td><td>0</td><td>0</td><td>NULL</td><td>NULL</td></tr>",
                            "<tr><td>315-3081892YC</td><td>2000-01-31 00:00:00.000</td><td>-957</td><td>2000-02-05 00:00:00.000</td><td>0</td><td>0</td><td>0</td><td>0</td><td>0</td><td>NULL</td><td>0</td><td>0</td><td>0</td><td>0</td><td>0</td><td>0</td><td>0</td><td>0</td><td>0</td><td>0</td><td>0</td><td>0</td><td>0</td><td>0</td><td>0</td><td>0</td><td>0</td><td>0</td><td>0</td><td>0</td><td>0</td><td>0</td><td>0</td><td>0.000000000</td><td>NULL</td><td>0.0000000000</td><td>0.0000000000</td><td>0</td><td>0</td><td>0</td><td>0</td><td>0</td><td>0</td><td>0</td><td>0</td><td>NULL</td><td>0</td><td>0</td><td>0</td><td>0.0000000000</td><td>0.0000000000</td><td>0.0000000000</td><td>0.0000000000</td><td>0.0000000000</td><td>0.0000000000</td><td>0.0000000000</td><td>0</td><td>0</td><td>0</td><td>0</td><td>0</td><td>0</td><td>0</td><td>0</td><td>NULL</td><td>NULL</td></tr>",
                            "<tr><td>315-3081892YC</td><td>2000-02-01 00:00:00.000</td><td>-957</td><td>2000-02-05 00:00:00.000</td><td>0</td><td>0</td><td>0</td><td>0</td><td>0</td><td>NULL</td><td>0</td><td>0</td><td>0</td><td>0</td><td>0</td><td>0</td><td>0</td><td>0</td><td>0</td><td>0</td><td>0</td><td>0</td><td>0</td><td>0</td><td>0</td><td>0</td><td>0</td><td>0</td><td>0</td><td>0</td><td>0</td><td>0</td><td>0</td><td>0.000000000</td><td>NULL</td><td>0.0000000000</td><td>0.0000000000</td><td>0</td><td>0</td><td>0</td><td>0</td><td>0</td><td>0</td><td>0</td><td>0</td><td>NULL</td><td>0</td><td>0</td><td>0</td><td>0.0000000000</td><td>0.0000000000</td><td>0.0000000000</td><td>0.0000000000</td><td>0.0000000000</td><td>0.0000000000</td><td>0.0000000000</td><td>0</td><td>0</td><td>0</td><td>0</td><td>0</td><td>0</td><td>0</td><td>0</td><td>NULL</td><td>NULL</td></tr>",
                            "<tr><td>315-3081892YC</td><td>2000-02-02 00:00:00.000</td><td>-957</td><td>2000-02-05 00:00:00.000</td><td>0</td><td>0</td><td>0</td><td>0</td><td>0</td><td>NULL</td><td>0</td><td>0</td><td>0</td><td>0</td><td>0</td><td>0</td><td>0</td><td>0</td><td>0</td><td>0</td><td>0</td><td>0</td><td>0</td><td>0</td><td>0</td><td>0</td><td>0</td><td>0</td><td>0</td><td>0</td><td>0</td><td>0</td><td>0</td><td>0.000000000</td><td>NULL</td><td>0.0000000000</td><td>0.0000000000</td><td>0</td><td>0</td><td>0</td><td>0</td><td>0</td><td>0</td><td>0</td><td>0</td><td>NULL</td><td>0</td><td>0</td><td>0</td><td>0.0000000000</td><td>0.0000000000</td><td>0.0000000000</td><td>0.0000000000</td><td>0.0000000000</td><td>0.0000000000</td><td>0.0000000000</td><td>0</td><td>0</td><td>0</td><td>0</td><td>0</td><td>0</td><td>0</td><td>0</td><td>NULL</td><td>NULL</td></tr>",
                            "<tr><td>315-3081892YC</td><td>2000-02-03 00:00:00.000</td><td>-957</td><td>2000-02-05 00:00:00.000</td><td>0</td><td>0</td><td>0</td><td>0</td><td>0</td><td>NULL</td><td>0</td><td>0</td><td>0</td><td>0</td><td>0</td><td>0</td><td>0</td><td>0</td><td>0</td><td>0</td><td>0</td><td>0</td><td>0</td><td>0</td><td>0</td><td>0</td><td>0</td><td>0</td><td>0</td><td>0</td><td>0</td><td>0</td><td>0</td><td>0.000000000</td><td>NULL</td><td>0.0000000000</td><td>0.0000000000</td><td>0</td><td>0</td><td>0</td><td>0</td><td>0</td><td>0</td><td>0</td><td>0</td><td>NULL</td><td>0</td><td>0</td><td>0</td><td>0.0000000000</td><td>0.0000000000</td><td>0.0000000000</td><td>0.0000000000</td><td>0.0000000000</td><td>0.0000000000</td><td>0.0000000000</td><td>0</td><td>0</td><td>0</td><td>0</td><td>0</td><td>0</td><td>0</td><td>0</td><td>NULL</td><td>NULL</td></tr>",
                            "<tr><td>315-3081892YC</td><td>2000-02-04 00:00:00.000</td><td>-957</td><td>2000-02-05 00:00:00.000</td><td>0</td><td>0</td><td>0</td><td>0</td><td>0</td><td>NULL</td><td>0</td><td>0</td><td>0</td><td>0</td><td>0</td><td>0</td><td>0</td><td>0</td><td>0</td><td>0</td><td>0</td><td>0</td><td>0</td><td>0</td><td>0</td><td>0</td><td>0</td><td>0</td><td>0</td><td>0</td><td>0</td><td>0</td><td>0</td><td>0.000000000</td><td>NULL</td><td>0.0000000000</td><td>0.0000000000</td><td>0</td><td>0</td><td>0</td><td>0</td><td>0</td><td>0</td><td>0</td><td>0</td><td>NULL</td><td>0</td><td>0</td><td>0</td><td>0.0000000000</td><td>0.0000000000</td><td>0.0000000000</td><td>0.0000000000</td><td>0.0000000000</td><td>0.0000000000</td><td>0.0000000000</td><td>0</td><td>0</td><td>0</td><td>0</td><td>0</td><td>0</td><td>0</td><td>0</td><td>NULL</td><td>NULL</td></tr>",
                            "<tr><td>315-3081892YC</td><td>2000-02-05 00:00:00.000</td><td>-957</td><td>2000-02-05 00:00:00.000</td><td>0</td><td>0</td><td>0</td><td>0</td><td>0</td><td>NULL</td><td>0</td><td>0</td><td>0</td><td>0</td><td>0</td><td>0</td><td>0</td><td>0</td><td>0</td><td>0</td><td>0</td><td>0</td><td>0</td><td>0</td><td>0</td><td>0</td><td>0</td><td>0</td><td>0</td><td>0</td><td>0</td><td>0</td><td>0</td><td>0.000000000</td><td>NULL</td><td>0.0000000000</td><td>0.0000000000</td><td>0</td><td>0</td><td>0</td><td>0</td><td>0</td><td>0</td><td>0</td><td>0</td><td>NULL</td><td>0</td><td>0</td><td>0</td><td>0.0000000000</td><td>0.0000000000</td><td>0.0000000000</td><td>0.0000000000</td><td>0.0000000000</td><td>0.0000000000</td><td>0.0000000000</td><td>0</td><td>0</td><td>0</td><td>0</td><td>0</td><td>0</td><td>0</td><td>0</td><td>NULL</td><td>NULL</td></tr>",
                            "<tr><td>315-3081892YC</td><td>2000-02-06 00:00:00.000</td><td>-956</td><td>2000-02-12 00:00:00.000</td><td>0</td><td>0</td><td>0</td><td>0</td><td>0</td><td>NULL</td><td>0</td><td>0</td><td>0</td><td>0</td><td>0</td><td>0</td><td>0</td><td>0</td><td>0</td><td>0</td><td>0</td><td>0</td><td>0</td><td>0</td><td>0</td><td>0</td><td>0</td><td>0</td><td>0</td><td>0</td><td>0</td><td>0</td><td>0</td><td>0.000000000</td><td>NULL</td><td>0.0000000000</td><td>0.0000000000</td><td>0</td><td>0</td><td>0</td><td>0</td><td>0</td><td>0</td><td>0</td><td>0</td><td>NULL</td><td>0</td><td>0</td><td>0</td><td>0.0000000000</td><td>0.0000000000</td><td>0.0000000000</td><td>0.0000000000</td><td>0.0000000000</td><td>0.0000000000</td><td>0.0000000000</td><td>0</td><td>0</td><td>0</td><td>0</td><td>0</td><td>0</td><td>0</td><td>0</td><td>NULL</td><td>NULL</td></tr>",
                            "<tr><td>315-3081892YC</td><td>2000-02-07 00:00:00.000</td><td>-956</td><td>2000-02-12 00:00:00.000</td><td>0</td><td>0</td><td>0</td><td>0</td><td>0</td><td>NULL</td><td>0</td><td>0</td><td>0</td><td>0</td><td>0</td><td>0</td><td>0</td><td>0</td><td>0</td><td>0</td><td>0</td><td>0</td><td>0</td><td>0</td><td>0</td><td>0</td><td>0</td><td>0</td><td>0</td><td>0</td><td>0</td><td>0</td><td>0</td><td>0.000000000</td><td>NULL</td><td>0.0000000000</td><td>0.0000000000</td><td>0</td><td>0</td><td>0</td><td>0</td><td>0</td><td>0</td><td>0</td><td>0</td><td>NULL</td><td>0</td><td>0</td><td>0</td><td>0.0000000000</td><td>0.0000000000</td><td>0.0000000000</td><td>0.0000000000</td><td>0.0000000000</td><td>0.0000000000</td><td>0.0000000000</td><td>0</td><td>0</td><td>0</td><td>0</td><td>0</td><td>0</td><td>0</td><td>0</td><td>NULL</td><td>NULL</td></tr>",
                            "<tr><td>315-3081892YC</td><td>2000-02-08 00:00:00.000</td><td>-956</td><td>2000-02-12 00:00:00.000</td><td>0</td><td>0</td><td>0</td><td>0</td><td>0</td><td>NULL</td><td>0</td><td>0</td><td>0</td><td>0</td><td>0</td><td>0</td><td>0</td><td>0</td><td>0</td><td>0</td><td>0</td><td>0</td><td>0</td><td>0</td><td>0</td><td>0</td><td>0</td><td>0</td><td>0</td><td>0</td><td>0</td><td>0</td><td>0</td><td>0.000000000</td><td>NULL</td><td>0.0000000000</td><td>0.0000000000</td><td>0</td><td>0</td><td>0</td><td>0</td><td>0</td><td>0</td><td>0</td><td>0</td><td>NULL</td><td>0</td><td>0</td><td>0</td><td>0.0000000000</td><td>0.0000000000</td><td>0.0000000000</td><td>0.0000000000</td><td>0.0000000000</td><td>0.0000000000</td><td>0.0000000000</td><td>0</td><td>0</td><td>0</td><td>0</td><td>0</td><td>0</td><td>0</td><td>0</td><td>NULL</td><td>NULL</td></tr>",
                            "</table>"
                        ]
                    }
                }
            ],
            "execution_count": 3
        },
        {
            "cell_type": "markdown",
            "source": [
                "## Inventory\r\n",
                "\r\n",
                "This table includes every inventory transaction for every complex entity number in the set"
            ],
            "metadata": {
                "azdata_cell_guid": "dfb290ef-512d-47f3-b613-e781e2f111a3"
            }
        },
        {
            "cell_type": "code",
            "source": [
                "SELECT TOP 10\r\n",
                "    rtrim(b.FarmNo) + '-' + rtrim(b.EntityNo) AS ComplexEntityNo\r\n",
                "    ,xDate \r\n",
                "    ,SUM(CASE WHEN SEX = 1 THEN Quantity ELSE 0 END) AS FemaleInvTransactions\r\n",
                "    ,SUM(CASE WHEN SEX = 2 THEN Quantity ELSE 0 END) AS MaleInvTransactions\r\n",
                "FROM mtech.BimEntityInventory a \r\n",
                "INNER JOIN mtech.mvProteinEntities b \r\n",
                "    ON a.ProteinEntitiesIRN = b.IRN\r\n",
                "INNER JOIN mtech.BimEntities c \r\n",
                "    ON a.ProteinEntitiesIRN = c.ProteinEntitiesIRN\r\n",
                "WHERE a.EntityHistoryFlag = 0\r\n",
                "AND AvgHatchDate > '1/1/16'\r\n",
                "GROUP BY FarmNo, EntityNo,xDate\r\n",
                "ORDER BY ComplexEntityNo, xDate"
            ],
            "metadata": {
                "azdata_cell_guid": "5fb3a036-c691-4d7a-a92d-1b08706357f1"
            },
            "outputs": [
                {
                    "output_type": "display_data",
                    "data": {
                        "text/html": "(10 rows affected)"
                    },
                    "metadata": {}
                },
                {
                    "output_type": "display_data",
                    "data": {
                        "text/html": "Total execution time: 00:00:08.122"
                    },
                    "metadata": {}
                },
                {
                    "output_type": "execute_result",
                    "metadata": {},
                    "execution_count": 5,
                    "data": {
                        "application/vnd.dataresource+json": {
                            "schema": {
                                "fields": [
                                    {
                                        "name": "ComplexEntityNo"
                                    },
                                    {
                                        "name": "xDate"
                                    },
                                    {
                                        "name": "FemaleInvTransactions"
                                    },
                                    {
                                        "name": "MaleInvTransactions"
                                    }
                                ]
                            },
                            "data": [
                                {
                                    "0": "001.N1-02116.344",
                                    "1": "1899-11-30 00:00:00.000",
                                    "2": "0.0000000000",
                                    "3": "0.0000000000"
                                },
                                {
                                    "0": "001.N1-02116.344",
                                    "1": "2016-01-05 00:00:00.000",
                                    "2": "1440.0000000000",
                                    "3": "1439.0000000000"
                                },
                                {
                                    "0": "001.N1-02116.344",
                                    "1": "2016-01-06 00:00:00.000",
                                    "2": "-2.0000000000",
                                    "3": "-1.0000000000"
                                },
                                {
                                    "0": "001.N1-02116.344",
                                    "1": "2016-01-07 00:00:00.000",
                                    "2": "-3.0000000000",
                                    "3": "-2.0000000000"
                                },
                                {
                                    "0": "001.N1-02116.344",
                                    "1": "2016-01-08 00:00:00.000",
                                    "2": "-1.0000000000",
                                    "3": "0.0000000000"
                                },
                                {
                                    "0": "001.N1-02116.344",
                                    "1": "2016-01-09 00:00:00.000",
                                    "2": "0.0000000000",
                                    "3": "-1.0000000000"
                                },
                                {
                                    "0": "001.N1-02116.344",
                                    "1": "2016-01-10 00:00:00.000",
                                    "2": "-2.0000000000",
                                    "3": "-3.0000000000"
                                },
                                {
                                    "0": "001.N1-02116.344",
                                    "1": "2016-01-11 00:00:00.000",
                                    "2": "-12.0000000000",
                                    "3": "-12.0000000000"
                                },
                                {
                                    "0": "001.N1-02116.344",
                                    "1": "2016-01-12 00:00:00.000",
                                    "2": "-1.0000000000",
                                    "3": "-1.0000000000"
                                },
                                {
                                    "0": "001.N1-02116.344",
                                    "1": "2016-01-14 00:00:00.000",
                                    "2": "0.0000000000",
                                    "3": "-2.0000000000"
                                }
                            ]
                        },
                        "text/html": [
                            "<table>",
                            "<tr><th>ComplexEntityNo</th><th>xDate</th><th>FemaleInvTransactions</th><th>MaleInvTransactions</th></tr>",
                            "<tr><td>001.N1-02116.344</td><td>1899-11-30 00:00:00.000</td><td>0.0000000000</td><td>0.0000000000</td></tr>",
                            "<tr><td>001.N1-02116.344</td><td>2016-01-05 00:00:00.000</td><td>1440.0000000000</td><td>1439.0000000000</td></tr>",
                            "<tr><td>001.N1-02116.344</td><td>2016-01-06 00:00:00.000</td><td>-2.0000000000</td><td>-1.0000000000</td></tr>",
                            "<tr><td>001.N1-02116.344</td><td>2016-01-07 00:00:00.000</td><td>-3.0000000000</td><td>-2.0000000000</td></tr>",
                            "<tr><td>001.N1-02116.344</td><td>2016-01-08 00:00:00.000</td><td>-1.0000000000</td><td>0.0000000000</td></tr>",
                            "<tr><td>001.N1-02116.344</td><td>2016-01-09 00:00:00.000</td><td>0.0000000000</td><td>-1.0000000000</td></tr>",
                            "<tr><td>001.N1-02116.344</td><td>2016-01-10 00:00:00.000</td><td>-2.0000000000</td><td>-3.0000000000</td></tr>",
                            "<tr><td>001.N1-02116.344</td><td>2016-01-11 00:00:00.000</td><td>-12.0000000000</td><td>-12.0000000000</td></tr>",
                            "<tr><td>001.N1-02116.344</td><td>2016-01-12 00:00:00.000</td><td>-1.0000000000</td><td>-1.0000000000</td></tr>",
                            "<tr><td>001.N1-02116.344</td><td>2016-01-14 00:00:00.000</td><td>0.0000000000</td><td>-2.0000000000</td></tr>",
                            "</table>"
                        ]
                    }
                }
            ],
            "execution_count": 5
        }
    ]
}