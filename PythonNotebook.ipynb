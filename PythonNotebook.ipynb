{
    "metadata": {
        "kernelspec": {
            "name": "python3",
            "display_name": "Python 3"
        },
        "language_info": {
            "name": "python",
            "version": "3.7.4",
            "mimetype": "text/x-python",
            "codemirror_mode": {
                "name": "ipython",
                "version": 3
            },
            "pygments_lexer": "ipython3",
            "nbconvert_exporter": "python",
            "file_extension": ".py"
        }
    },
    "nbformat_minor": 2,
    "nbformat": 4,
    "cells": [
        {
            "cell_type": "code",
            "source": [
                "#import required modules\r\n",
                "import sqlite3 \r\n",
                "import numpy as np \r\n",
                "import pandas as pd \r\n",
                "import os\r\n",
                "\r\n",
                "#Custom functions found in the sqlite.py file\r\n",
                "from sqlite import *"
            ],
            "metadata": {
                "azdata_cell_guid": "ade2b6dc-f90b-45ca-81b1-af30187800bd"
            },
            "outputs": [],
            "execution_count": 1
        },
        {
            "cell_type": "code",
            "source": [
                "os.getcwd()"
            ],
            "metadata": {
                "azdata_cell_guid": "1c6e63d8-0be5-4973-8101-980f30d25e6a"
            },
            "outputs": [
                {
                    "data": {
                        "text/plain": "'c:\\\\Users\\\\khartless\\\\Documents\\\\AzureDataStudioExample'"
                    },
                    "metadata": {},
                    "execution_count": 2,
                    "output_type": "execute_result"
                }
            ],
            "execution_count": 2
        },
        {
            "cell_type": "markdown",
            "source": [
                "## Create the database"
            ],
            "metadata": {
                "azdata_cell_guid": "5a6a6f16-6e28-4f94-a16e-95ed0da1f424"
            }
        },
        {
            "cell_type": "code",
            "source": [
                "conn = sqlite3.connect('test.db')\r\n",
                "c = conn.cursor()"
            ],
            "metadata": {
                "azdata_cell_guid": "49fd7f84-ac98-46c3-a223-c0babc4d4eb3"
            },
            "outputs": [],
            "execution_count": 3
        },
        {
            "cell_type": "markdown",
            "source": [
                "## Import the file into a pandas data frame"
            ],
            "metadata": {
                "azdata_cell_guid": "c47eed55-faa0-4fe3-9c97-03b444ff4949"
            }
        },
        {
            "cell_type": "code",
            "source": [
                "dfEggWeight = pd.read_excel('EggWeight.xlsx')\r\n",
                "dfEggWeight.head()"
            ],
            "metadata": {
                "azdata_cell_guid": "90427818-89c5-4bc3-9736-bf22ae81f9ca"
            },
            "outputs": [
                {
                    "data": {
                        "text/plain": "  ComplexEntityNo  Weeks    WeekEnd  AddedF  AddedM  HatchEggsProd  \\\n0  102.P1-961.QFS      0 2019-10-05       0       0              0   \n1  102.P1-961.QFS      1 2019-10-12       0       0              0   \n2  102.P1-961.QFS      2 2019-10-19       0       0              0   \n3  102.P1-961.QFS      3 2019-10-26       0       0              0   \n4  102.P1-961.QFS      4 2019-11-02       0       0              0   \n\n   CullEggsProd  TotalEggsProd  U_HatchEggProd  U_HEGradeAProd  ...  \\\n0             0              0               0               0  ...   \n1             0              0               0               0  ...   \n2             0              0               0               0  ...   \n3             0              0               0               0  ...   \n4             0              0               0               0  ...   \n\n   U_CullEggSoftShellProd  U_CDoubleYolkProd  U_CMisshapedEggProd  \\\n0                       0                  0                    0   \n1                       0                  0                    0   \n2                       0                  0                    0   \n3                       0                  0                    0   \n4                       0                  0                    0   \n\n   U_CSmallEggProd  U_UnusedEggsProd  U_CDestroyedProd  U_CommercialProd  \\\n0                0                 0                 0                 0   \n1                0                 0                 0                 0   \n2                0                 0                 0                 0   \n3                0                 0                 0                 0   \n4                0                 0                 0                 0   \n\n   U_CCrackedEggProd  U_COtherProd  EggWeight  \n0                  0             0        NaN  \n1                  0             0        NaN  \n2                  0             0        NaN  \n3                  0             0        NaN  \n4                  0             0        NaN  \n\n[5 rows x 28 columns]",
                        "text/html": "<div>\n<style scoped>\n    .dataframe tbody tr th:only-of-type {\n        vertical-align: middle;\n    }\n\n    .dataframe tbody tr th {\n        vertical-align: top;\n    }\n\n    .dataframe thead th {\n        text-align: right;\n    }\n</style>\n<table border=\"1\" class=\"dataframe\">\n  <thead>\n    <tr style=\"text-align: right;\">\n      <th></th>\n      <th>ComplexEntityNo</th>\n      <th>Weeks</th>\n      <th>WeekEnd</th>\n      <th>AddedF</th>\n      <th>AddedM</th>\n      <th>HatchEggsProd</th>\n      <th>CullEggsProd</th>\n      <th>TotalEggsProd</th>\n      <th>U_HatchEggProd</th>\n      <th>U_HEGradeAProd</th>\n      <th>...</th>\n      <th>U_CullEggSoftShellProd</th>\n      <th>U_CDoubleYolkProd</th>\n      <th>U_CMisshapedEggProd</th>\n      <th>U_CSmallEggProd</th>\n      <th>U_UnusedEggsProd</th>\n      <th>U_CDestroyedProd</th>\n      <th>U_CommercialProd</th>\n      <th>U_CCrackedEggProd</th>\n      <th>U_COtherProd</th>\n      <th>EggWeight</th>\n    </tr>\n  </thead>\n  <tbody>\n    <tr>\n      <th>0</th>\n      <td>102.P1-961.QFS</td>\n      <td>0</td>\n      <td>2019-10-05</td>\n      <td>0</td>\n      <td>0</td>\n      <td>0</td>\n      <td>0</td>\n      <td>0</td>\n      <td>0</td>\n      <td>0</td>\n      <td>...</td>\n      <td>0</td>\n      <td>0</td>\n      <td>0</td>\n      <td>0</td>\n      <td>0</td>\n      <td>0</td>\n      <td>0</td>\n      <td>0</td>\n      <td>0</td>\n      <td>NaN</td>\n    </tr>\n    <tr>\n      <th>1</th>\n      <td>102.P1-961.QFS</td>\n      <td>1</td>\n      <td>2019-10-12</td>\n      <td>0</td>\n      <td>0</td>\n      <td>0</td>\n      <td>0</td>\n      <td>0</td>\n      <td>0</td>\n      <td>0</td>\n      <td>...</td>\n      <td>0</td>\n      <td>0</td>\n      <td>0</td>\n      <td>0</td>\n      <td>0</td>\n      <td>0</td>\n      <td>0</td>\n      <td>0</td>\n      <td>0</td>\n      <td>NaN</td>\n    </tr>\n    <tr>\n      <th>2</th>\n      <td>102.P1-961.QFS</td>\n      <td>2</td>\n      <td>2019-10-19</td>\n      <td>0</td>\n      <td>0</td>\n      <td>0</td>\n      <td>0</td>\n      <td>0</td>\n      <td>0</td>\n      <td>0</td>\n      <td>...</td>\n      <td>0</td>\n      <td>0</td>\n      <td>0</td>\n      <td>0</td>\n      <td>0</td>\n      <td>0</td>\n      <td>0</td>\n      <td>0</td>\n      <td>0</td>\n      <td>NaN</td>\n    </tr>\n    <tr>\n      <th>3</th>\n      <td>102.P1-961.QFS</td>\n      <td>3</td>\n      <td>2019-10-26</td>\n      <td>0</td>\n      <td>0</td>\n      <td>0</td>\n      <td>0</td>\n      <td>0</td>\n      <td>0</td>\n      <td>0</td>\n      <td>...</td>\n      <td>0</td>\n      <td>0</td>\n      <td>0</td>\n      <td>0</td>\n      <td>0</td>\n      <td>0</td>\n      <td>0</td>\n      <td>0</td>\n      <td>0</td>\n      <td>NaN</td>\n    </tr>\n    <tr>\n      <th>4</th>\n      <td>102.P1-961.QFS</td>\n      <td>4</td>\n      <td>2019-11-02</td>\n      <td>0</td>\n      <td>0</td>\n      <td>0</td>\n      <td>0</td>\n      <td>0</td>\n      <td>0</td>\n      <td>0</td>\n      <td>...</td>\n      <td>0</td>\n      <td>0</td>\n      <td>0</td>\n      <td>0</td>\n      <td>0</td>\n      <td>0</td>\n      <td>0</td>\n      <td>0</td>\n      <td>0</td>\n      <td>NaN</td>\n    </tr>\n  </tbody>\n</table>\n<p>5 rows × 28 columns</p>\n</div>"
                    },
                    "metadata": {},
                    "execution_count": 4,
                    "output_type": "execute_result"
                }
            ],
            "execution_count": 4
        },
        {
            "cell_type": "code",
            "source": [
                "dfEggWeight.shape"
            ],
            "metadata": {
                "azdata_cell_guid": "ee36d65f-5f3c-4dfa-a229-a24e8ccae424"
            },
            "outputs": [
                {
                    "data": {
                        "text/plain": "(29451, 28)"
                    },
                    "metadata": {},
                    "execution_count": 5,
                    "output_type": "execute_result"
                }
            ],
            "execution_count": 5
        },
        {
            "cell_type": "code",
            "source": [
                "eggWeightCols = list(dfEggWeight.columns)"
            ],
            "metadata": {
                "azdata_cell_guid": "914c605d-90cf-4cd1-8e43-e84b051365e6"
            },
            "outputs": [],
            "execution_count": 11
        },
        {
            "cell_type": "markdown",
            "source": [
                "## Create the functions to work with sqlite tables"
            ],
            "metadata": {
                "azdata_cell_guid": "7fa552c6-ebb7-4f2b-ab3d-b930393d07b7"
            }
        },
        {
            "cell_type": "code",
            "source": [
                "#Create the functions to import the data frame into the database\r\n",
                "def table_exists(table_name):\r\n",
                "    \"\"\"\r\n",
                "    Checks the open database connection and returns true if the table already exists in database\r\n",
                "    \"\"\"\r\n",
                "    c.execute(\"SELECT count(name) FROM sqlite_master WHERE TYPE = 'table' AND name = '{}'\".format(table_name))\r\n",
                "    if c.fetchone()[0] == 1:\r\n",
                "        return True \r\n",
                "    return False\r\n",
                "\r\n",
                "def create_tables(cols, data_types, table_name):\r\n",
                "    \"\"\"\r\n",
                "    If the table does not already exist, creates a table with the supplied column names and data types\r\n",
                "    \"\"\"\r\n",
                "    if not table_exists(table_name):\r\n",
                "        sql_string = \"CREATE TABLE {}(\".format(table_name)\r\n",
                "        for index, col in enumerate(cols):\r\n",
                "            if index == 0:\r\n",
                "                sql_string += \"{} {}\".format(col, data_types[index])\r\n",
                "            else:\r\n",
                "                sql_string += \", {} {}\".format(col, data_types[index])\r\n",
                "        sql_string += \")\"\r\n",
                "        c.execute(sql_string)\r\n",
                "        return sql_string\r\n",
                "\r\n",
                "def get_data_types(df):\r\n",
                "    \"\"\"\r\n",
                "    Determine the data types to be used in the table based on the data types that exist in the data frame\r\n",
                "    This function also converts datetime fields to text\r\n",
                "    \"\"\"\r\n",
                "    dfModified = df.copy()\r\n",
                "    dataTypesList = []\r\n",
                "    dataTypes = dict(df.dtypes)\r\n",
                "    dataTypes['ComplexEntityNo']\r\n",
                "    for key, value in dataTypes.items():\r\n",
                "        if value in ['object', 'datetime64[ns]', '<M8[ns]']:\r\n",
                "            dataTypesList.append('TEXT')\r\n",
                "            dfModified[key] = [str(x) for x in dfModified[key]]\r\n",
                "        elif value in ['int64']:\r\n",
                "            dataTypesList.append('INTEGER')\r\n",
                "        elif value in ['float64']:\r\n",
                "            dataTypesList.append('REAL')\r\n",
                "        else:\r\n",
                "            dataTypesList.append('BLOB')\r\n",
                "    return dfModified, dataTypesList\r\n",
                "\r\n",
                "def insert_data(table_name, cols, df):\r\n",
                "    \"\"\"\r\n",
                "    Read each row of the data frame an insert it into the sqlite table\r\n",
                "    \"\"\"\r\n",
                "    sql_string = \"INSERT INTO {} (\".format(table_name)\r\n",
                "    for index, col in enumerate(cols):\r\n",
                "        if index == 0:\r\n",
                "            sql_string += col \r\n",
                "        else:\r\n",
                "            sql_string += \", {}\".format(col)\r\n",
                "    sql_string += \") VALUES(\"\r\n",
                "    sql_string += \"?, \"*(len(cols)-1)\r\n",
                "    sql_string += \"?)\"\r\n",
                "    for index, row in df.iterrows():\r\n",
                "        c.execute(sql_string, tuple(row))\r\n",
                "        conn.commit()\r\n",
                "\r\n",
                "def to_sqlite(df, table_name, **cols):\r\n",
                "    \"\"\"\r\n",
                "    Create a table and populate it based on an existing dataframe\r\n",
                "    \"\"\"\r\n",
                "    if (len(cols) == 0) | (len(cols) != len(list(df.columns))) | (type(cols) != 'list'):\r\n",
                "        cols = list(df.columns)\r\n",
                "    df, dataTypes = get_data_types(df)\r\n",
                "    create_tables(cols, dataTypes, table_name)\r\n",
                "    insert_data(table_name, cols, df)\r\n",
                "\r\n",
                "def query_table(table_name, top_n):\r\n",
                "    if table_exists(table_name):\r\n",
                "        if top_n > 0:\r\n",
                "            c.execute(\"SELECT * FROM {} LIMIT {}\".format(table_name, top_n))\r\n",
                "        else:\r\n",
                "            c.execute(\"SELECT * FROM {}\".format(table_name))\r\n",
                "        data = []\r\n",
                "        for row in c.fetchall():\r\n",
                "            data.append(row)\r\n",
                "        return data\r\n",
                "    else:\r\n",
                "        return \"Table {} does not exist.\".format(table_name)\r\n",
                "\r\n",
                "def delete_table(table_name):\r\n",
                "    c.execute(\"DROP TABLE IF EXISTS {}\".format(table_name))\r\n",
                ""
            ],
            "metadata": {
                "azdata_cell_guid": "785c4ba3-26ca-441b-b366-ae490a6f1483"
            },
            "outputs": [],
            "execution_count": 7
        },
        {
            "cell_type": "markdown",
            "source": [
                "## Import the data frame into the database"
            ],
            "metadata": {
                "azdata_cell_guid": "d83ac491-2305-4c66-99bf-3aac8d5545f7"
            }
        },
        {
            "cell_type": "code",
            "source": [
                "to_sqlite(dfEggWeight.head(1000), 'EggWeight')"
            ],
            "metadata": {
                "azdata_cell_guid": "8ef74457-7829-4b01-b07b-a6afb6f71785"
            },
            "outputs": [],
            "execution_count": 8
        },
        {
            "cell_type": "markdown",
            "source": [
                "## Query the data in the database"
            ],
            "metadata": {
                "azdata_cell_guid": "219d52b2-926f-42a4-a118-8b453d45df39"
            }
        },
        {
            "cell_type": "code",
            "source": [
                "print(query_table('EggWeight', 5))"
            ],
            "metadata": {
                "azdata_cell_guid": "a18da118-3d88-413d-a669-6c255ddd9cab"
            },
            "outputs": [
                {
                    "name": "stdout",
                    "text": "[('102.P1-961.QFS', 0, '2019-10-05 00:00:00', 0, 0, 0, 0, 0, 0, 0, 0, 0, 0, 0, 0, 0, 0, 0, 0, 0, 0, 0, 0, 0, 0, 0, 0, None), ('102.P1-961.QFS', 1, '2019-10-12 00:00:00', 0, 0, 0, 0, 0, 0, 0, 0, 0, 0, 0, 0, 0, 0, 0, 0, 0, 0, 0, 0, 0, 0, 0, 0, None), ('102.P1-961.QFS', 2, '2019-10-19 00:00:00', 0, 0, 0, 0, 0, 0, 0, 0, 0, 0, 0, 0, 0, 0, 0, 0, 0, 0, 0, 0, 0, 0, 0, 0, None), ('102.P1-961.QFS', 3, '2019-10-26 00:00:00', 0, 0, 0, 0, 0, 0, 0, 0, 0, 0, 0, 0, 0, 0, 0, 0, 0, 0, 0, 0, 0, 0, 0, 0, None), ('102.P1-961.QFS', 4, '2019-11-02 00:00:00', 0, 0, 0, 0, 0, 0, 0, 0, 0, 0, 0, 0, 0, 0, 0, 0, 0, 0, 0, 0, 0, 0, 0, 0, None)]\n",
                    "output_type": "stream"
                }
            ],
            "execution_count": 10
        },
        {
            "cell_type": "markdown",
            "source": [
                "## Store the query results back into a data frame"
            ],
            "metadata": {
                "azdata_cell_guid": "b8914ecd-41a3-4e67-89a3-49f6af06de36"
            }
        },
        {
            "cell_type": "code",
            "source": [
                "dfNew = pd.DataFrame(query_table('EggWeight', 5), columns = eggWeightCols)\r\n",
                "dfNew"
            ],
            "metadata": {
                "azdata_cell_guid": "a81fc12b-f7ef-458f-a2e4-ed4fd9498f20"
            },
            "outputs": [
                {
                    "data": {
                        "text/plain": "  ComplexEntityNo  Weeks              WeekEnd  AddedF  AddedM  HatchEggsProd  \\\n0  102.P1-961.QFS      0  2019-10-05 00:00:00       0       0              0   \n1  102.P1-961.QFS      1  2019-10-12 00:00:00       0       0              0   \n2  102.P1-961.QFS      2  2019-10-19 00:00:00       0       0              0   \n3  102.P1-961.QFS      3  2019-10-26 00:00:00       0       0              0   \n4  102.P1-961.QFS      4  2019-11-02 00:00:00       0       0              0   \n\n   CullEggsProd  TotalEggsProd  U_HatchEggProd  U_HEGradeAProd  ...  \\\n0             0              0               0               0  ...   \n1             0              0               0               0  ...   \n2             0              0               0               0  ...   \n3             0              0               0               0  ...   \n4             0              0               0               0  ...   \n\n   U_CullEggSoftShellProd  U_CDoubleYolkProd  U_CMisshapedEggProd  \\\n0                       0                  0                    0   \n1                       0                  0                    0   \n2                       0                  0                    0   \n3                       0                  0                    0   \n4                       0                  0                    0   \n\n   U_CSmallEggProd  U_UnusedEggsProd  U_CDestroyedProd  U_CommercialProd  \\\n0                0                 0                 0                 0   \n1                0                 0                 0                 0   \n2                0                 0                 0                 0   \n3                0                 0                 0                 0   \n4                0                 0                 0                 0   \n\n   U_CCrackedEggProd  U_COtherProd  EggWeight  \n0                  0             0       None  \n1                  0             0       None  \n2                  0             0       None  \n3                  0             0       None  \n4                  0             0       None  \n\n[5 rows x 28 columns]",
                        "text/html": "<div>\n<style scoped>\n    .dataframe tbody tr th:only-of-type {\n        vertical-align: middle;\n    }\n\n    .dataframe tbody tr th {\n        vertical-align: top;\n    }\n\n    .dataframe thead th {\n        text-align: right;\n    }\n</style>\n<table border=\"1\" class=\"dataframe\">\n  <thead>\n    <tr style=\"text-align: right;\">\n      <th></th>\n      <th>ComplexEntityNo</th>\n      <th>Weeks</th>\n      <th>WeekEnd</th>\n      <th>AddedF</th>\n      <th>AddedM</th>\n      <th>HatchEggsProd</th>\n      <th>CullEggsProd</th>\n      <th>TotalEggsProd</th>\n      <th>U_HatchEggProd</th>\n      <th>U_HEGradeAProd</th>\n      <th>...</th>\n      <th>U_CullEggSoftShellProd</th>\n      <th>U_CDoubleYolkProd</th>\n      <th>U_CMisshapedEggProd</th>\n      <th>U_CSmallEggProd</th>\n      <th>U_UnusedEggsProd</th>\n      <th>U_CDestroyedProd</th>\n      <th>U_CommercialProd</th>\n      <th>U_CCrackedEggProd</th>\n      <th>U_COtherProd</th>\n      <th>EggWeight</th>\n    </tr>\n  </thead>\n  <tbody>\n    <tr>\n      <th>0</th>\n      <td>102.P1-961.QFS</td>\n      <td>0</td>\n      <td>2019-10-05 00:00:00</td>\n      <td>0</td>\n      <td>0</td>\n      <td>0</td>\n      <td>0</td>\n      <td>0</td>\n      <td>0</td>\n      <td>0</td>\n      <td>...</td>\n      <td>0</td>\n      <td>0</td>\n      <td>0</td>\n      <td>0</td>\n      <td>0</td>\n      <td>0</td>\n      <td>0</td>\n      <td>0</td>\n      <td>0</td>\n      <td>None</td>\n    </tr>\n    <tr>\n      <th>1</th>\n      <td>102.P1-961.QFS</td>\n      <td>1</td>\n      <td>2019-10-12 00:00:00</td>\n      <td>0</td>\n      <td>0</td>\n      <td>0</td>\n      <td>0</td>\n      <td>0</td>\n      <td>0</td>\n      <td>0</td>\n      <td>...</td>\n      <td>0</td>\n      <td>0</td>\n      <td>0</td>\n      <td>0</td>\n      <td>0</td>\n      <td>0</td>\n      <td>0</td>\n      <td>0</td>\n      <td>0</td>\n      <td>None</td>\n    </tr>\n    <tr>\n      <th>2</th>\n      <td>102.P1-961.QFS</td>\n      <td>2</td>\n      <td>2019-10-19 00:00:00</td>\n      <td>0</td>\n      <td>0</td>\n      <td>0</td>\n      <td>0</td>\n      <td>0</td>\n      <td>0</td>\n      <td>0</td>\n      <td>...</td>\n      <td>0</td>\n      <td>0</td>\n      <td>0</td>\n      <td>0</td>\n      <td>0</td>\n      <td>0</td>\n      <td>0</td>\n      <td>0</td>\n      <td>0</td>\n      <td>None</td>\n    </tr>\n    <tr>\n      <th>3</th>\n      <td>102.P1-961.QFS</td>\n      <td>3</td>\n      <td>2019-10-26 00:00:00</td>\n      <td>0</td>\n      <td>0</td>\n      <td>0</td>\n      <td>0</td>\n      <td>0</td>\n      <td>0</td>\n      <td>0</td>\n      <td>...</td>\n      <td>0</td>\n      <td>0</td>\n      <td>0</td>\n      <td>0</td>\n      <td>0</td>\n      <td>0</td>\n      <td>0</td>\n      <td>0</td>\n      <td>0</td>\n      <td>None</td>\n    </tr>\n    <tr>\n      <th>4</th>\n      <td>102.P1-961.QFS</td>\n      <td>4</td>\n      <td>2019-11-02 00:00:00</td>\n      <td>0</td>\n      <td>0</td>\n      <td>0</td>\n      <td>0</td>\n      <td>0</td>\n      <td>0</td>\n      <td>0</td>\n      <td>...</td>\n      <td>0</td>\n      <td>0</td>\n      <td>0</td>\n      <td>0</td>\n      <td>0</td>\n      <td>0</td>\n      <td>0</td>\n      <td>0</td>\n      <td>0</td>\n      <td>None</td>\n    </tr>\n  </tbody>\n</table>\n<p>5 rows × 28 columns</p>\n</div>"
                    },
                    "metadata": {},
                    "execution_count": 14,
                    "output_type": "execute_result"
                }
            ],
            "execution_count": 14
        },
        {
            "cell_type": "markdown",
            "source": [
                "## Close the connection when done"
            ],
            "metadata": {
                "azdata_cell_guid": "39888ef7-bb45-4c67-ac5b-37575b32e6bc"
            }
        },
        {
            "cell_type": "code",
            "source": [
                "\r\n",
                "c.close()\r\n",
                "\r\n",
                "try:\r\n",
                "    conn.close()\r\n",
                "    print(\"connection closed\")\r\n",
                "except:\r\n",
                "    print(\"connection already closed\")"
            ],
            "metadata": {
                "azdata_cell_guid": "40e287cd-102e-4f67-b0eb-2a0fcca3336d",
                "tags": []
            },
            "outputs": [
                {
                    "name": "stdout",
                    "text": "connection closed\n",
                    "output_type": "stream"
                }
            ],
            "execution_count": 15
        }
    ]
}