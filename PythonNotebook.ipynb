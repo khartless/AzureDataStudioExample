{
    "metadata": {
        "kernelspec": {
            "name": "python3",
            "display_name": "Python 3"
        },
        "language_info": {
            "name": "python",
            "version": "3.7.4",
            "mimetype": "text/x-python",
            "codemirror_mode": {
                "name": "ipython",
                "version": 3
            },
            "pygments_lexer": "ipython3",
            "nbconvert_exporter": "python",
            "file_extension": ".py"
        }
    },
    "nbformat_minor": 2,
    "nbformat": 4,
    "cells": [
        {
            "cell_type": "code",
            "source": [
                "import os"
            ],
            "metadata": {
                "azdata_cell_guid": "ade2b6dc-f90b-45ca-81b1-af30187800bd"
            },
            "outputs": [],
            "execution_count": 1
        },
        {
            "cell_type": "code",
            "source": [
                "os.getcwd()"
            ],
            "metadata": {
                "azdata_cell_guid": "1c6e63d8-0be5-4973-8101-980f30d25e6a"
            },
            "outputs": [
{
    "data": {
        "text/plain": "'c:\\\\Users\\\\khartless\\\\Documents\\\\AzureDataStudioExample'"
    },
    "metadata": {},
    "execution_count": 2,
    "output_type": "execute_result"
}
],
            "execution_count": 2
        }
    ]
}